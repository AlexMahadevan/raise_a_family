{
 "cells": [
  {
   "cell_type": "code",
   "execution_count": 1,
   "metadata": {
    "collapsed": true
   },
   "outputs": [],
   "source": [
    "import pandas as pd"
   ]
  },
  {
   "cell_type": "code",
   "execution_count": 2,
   "metadata": {
    "collapsed": true
   },
   "outputs": [],
   "source": [
    "df = pd.read_csv(\"/Users/alexmahadevan/Code/raise_a_family/county data.csv\" , index_col=0)"
   ]
  },
  {
   "cell_type": "code",
   "execution_count": 3,
   "metadata": {},
   "outputs": [
    {
     "name": "stdout",
     "output_type": "stream",
     "text": [
      "<class 'pandas.core.frame.DataFrame'>\n",
      "Float64Index: 3221 entries, 1.0 to nan\n",
      "Data columns (total 26 columns):\n",
      "SUMLEV                        3142 non-null float64\n",
      "REGION                        3142 non-null float64\n",
      "DIVISION                      3142 non-null float64\n",
      "STATE                         3142 non-null float64\n",
      "COUNTY                        3142 non-null float64\n",
      "STNAME                        3142 non-null object\n",
      "CTY                           3142 non-null object\n",
      "POPESTIMATE2016               3142 non-null float64\n",
      "AVG_NETMIG                    3142 non-null float64\n",
      "POP_CHANGE                    3142 non-null float64\n",
      "BIRTHS_PER_CAPITA             3142 non-null float64\n",
      "MEDIAN_HOUSEHOLD_INCOME       3142 non-null object\n",
      "PERCENT_W_HEALTH_INSURANCE    3142 non-null float64\n",
      "PERCENTAGE_IN_POVERTY         3142 non-null float64\n",
      "PERCENT_WITH_KIDS             3142 non-null float64\n",
      "BACHELORS_DEGREE              3142 non-null float64\n",
      "MEDIAN_MORTAGE_PAYMENTS       3142 non-null object\n",
      "MEDIAN_RENT_PAYMENT           3142 non-null object\n",
      "2010_FAM_KIDS                 3142 non-null float64\n",
      "2015_FAM_KIDS                 3142 non-null float64\n",
      "CHANGE_IN_FAM_WITH_KIDS       3142 non-null float64\n",
      "INCOME_AS_PERCENT_OF_STATE    3142 non-null float64\n",
      "UNEMPLOYMENT                  3142 non-null float64\n",
      "POP_2012                      3136 non-null float64\n",
      "CRIMES_2012                   3136 non-null float64\n",
      "VIOLENT_2012                  3136 non-null float64\n",
      "dtypes: float64(21), object(5)\n",
      "memory usage: 679.4+ KB\n"
     ]
    }
   ],
   "source": [
    "df.info()"
   ]
  },
  {
   "cell_type": "code",
   "execution_count": 24,
   "metadata": {},
   "outputs": [
    {
     "data": {
      "text/html": [
       "<div>\n",
       "<style>\n",
       "    .dataframe thead tr:only-child th {\n",
       "        text-align: right;\n",
       "    }\n",
       "\n",
       "    .dataframe thead th {\n",
       "        text-align: left;\n",
       "    }\n",
       "\n",
       "    .dataframe tbody tr th {\n",
       "        vertical-align: top;\n",
       "    }\n",
       "</style>\n",
       "<table border=\"1\" class=\"dataframe\">\n",
       "  <thead>\n",
       "    <tr style=\"text-align: right;\">\n",
       "      <th></th>\n",
       "      <th>SUMLEV</th>\n",
       "      <th>REGION</th>\n",
       "      <th>DIVISION</th>\n",
       "      <th>STATE</th>\n",
       "      <th>COUNTY</th>\n",
       "      <th>STNAME</th>\n",
       "      <th>CTY</th>\n",
       "      <th>POPESTIMATE2016</th>\n",
       "      <th>AVG_NETMIG</th>\n",
       "      <th>POP_CHANGE</th>\n",
       "      <th>...</th>\n",
       "      <th>MEDIAN_MORTAGE_PAYMENTS</th>\n",
       "      <th>MEDIAN_RENT_PAYMENT</th>\n",
       "      <th>2010_FAM_KIDS</th>\n",
       "      <th>2015_FAM_KIDS</th>\n",
       "      <th>CHANGE_IN_FAM_WITH_KIDS</th>\n",
       "      <th>INCOME_AS_PERCENT_OF_STATE</th>\n",
       "      <th>UNEMPLOYMENT</th>\n",
       "      <th>POP_2012</th>\n",
       "      <th>CRIMES_2012</th>\n",
       "      <th>VIOLENT_2012</th>\n",
       "    </tr>\n",
       "  </thead>\n",
       "  <tbody>\n",
       "    <tr>\n",
       "      <th>1.0</th>\n",
       "      <td>50.0</td>\n",
       "      <td>3.0</td>\n",
       "      <td>6.0</td>\n",
       "      <td>1.0</td>\n",
       "      <td>1.0</td>\n",
       "      <td>Alabama</td>\n",
       "      <td>Autauga County, Alabama</td>\n",
       "      <td>55416.0</td>\n",
       "      <td>0.026241</td>\n",
       "      <td>0.012312</td>\n",
       "      <td>...</td>\n",
       "      <td>1180</td>\n",
       "      <td>883</td>\n",
       "      <td>25.7</td>\n",
       "      <td>23.1</td>\n",
       "      <td>-0.101167</td>\n",
       "      <td>126.2</td>\n",
       "      <td>5.3</td>\n",
       "      <td>57161.0</td>\n",
       "      <td>825.0</td>\n",
       "      <td>220.0</td>\n",
       "    </tr>\n",
       "  </tbody>\n",
       "</table>\n",
       "<p>1 rows × 26 columns</p>\n",
       "</div>"
      ],
      "text/plain": [
       "     SUMLEV  REGION  DIVISION  STATE  COUNTY   STNAME  \\\n",
       "1.0    50.0     3.0       6.0    1.0     1.0  Alabama   \n",
       "\n",
       "                         CTY  POPESTIMATE2016  AVG_NETMIG  POP_CHANGE  \\\n",
       "1.0  Autauga County, Alabama          55416.0    0.026241    0.012312   \n",
       "\n",
       "         ...       MEDIAN_MORTAGE_PAYMENTS MEDIAN_RENT_PAYMENT  2010_FAM_KIDS  \\\n",
       "1.0      ...                          1180                 883           25.7   \n",
       "\n",
       "     2015_FAM_KIDS  CHANGE_IN_FAM_WITH_KIDS  INCOME_AS_PERCENT_OF_STATE  \\\n",
       "1.0           23.1                -0.101167                       126.2   \n",
       "\n",
       "    UNEMPLOYMENT POP_2012  CRIMES_2012  VIOLENT_2012  \n",
       "1.0          5.3  57161.0        825.0         220.0  \n",
       "\n",
       "[1 rows x 26 columns]"
      ]
     },
     "execution_count": 24,
     "metadata": {},
     "output_type": "execute_result"
    }
   ],
   "source": [
    "df.head(1)"
   ]
  },
  {
   "cell_type": "code",
   "execution_count": 5,
   "metadata": {
    "collapsed": true
   },
   "outputs": [],
   "source": [
    "pd.set_option('display.float_format', lambda x: '%.3f' % x)"
   ]
  },
  {
   "cell_type": "code",
   "execution_count": 16,
   "metadata": {},
   "outputs": [
    {
     "data": {
      "text/plain": [
       "102841.34723106302"
      ]
     },
     "execution_count": 16,
     "metadata": {},
     "output_type": "execute_result"
    }
   ],
   "source": [
    "df.POPESTIMATE2016.mean()"
   ]
  },
  {
   "cell_type": "code",
   "execution_count": 36,
   "metadata": {
    "collapsed": true
   },
   "outputs": [],
   "source": [
    "df['CRIME_RATE'] = df['CRIMES_2012']/df['POP_2012']"
   ]
  },
  {
   "cell_type": "code",
   "execution_count": 37,
   "metadata": {
    "collapsed": true
   },
   "outputs": [],
   "source": [
    "df['VIOLENT_CRIME_RATE'] = df['VIOLENT_2012']/df['POP_2012']"
   ]
  },
  {
   "cell_type": "code",
   "execution_count": 38,
   "metadata": {},
   "outputs": [
    {
     "name": "stdout",
     "output_type": "stream",
     "text": [
      "<class 'pandas.core.frame.DataFrame'>\n",
      "Float64Index: 3221 entries, 1.0 to nan\n",
      "Data columns (total 39 columns):\n",
      "SUMLEV                         3142 non-null float64\n",
      "REGION                         3142 non-null float64\n",
      "DIVISION                       3142 non-null float64\n",
      "STATE                          3142 non-null float64\n",
      "COUNTY                         3142 non-null float64\n",
      "STNAME                         3142 non-null object\n",
      "CTY                            3142 non-null object\n",
      "POPESTIMATE2016                3142 non-null float64\n",
      "AVG_NETMIG                     3142 non-null float64\n",
      "POP_CHANGE                     3142 non-null float64\n",
      "BIRTHS_PER_CAPITA              3142 non-null float64\n",
      "MEDIAN_HOUSEHOLD_INCOME        3142 non-null object\n",
      "PERCENT_W_HEALTH_INSURANCE     3142 non-null float64\n",
      "PERCENTAGE_IN_POVERTY          3142 non-null float64\n",
      "PERCENT_WITH_KIDS              3142 non-null float64\n",
      "BACHELORS_DEGREE               3142 non-null float64\n",
      "MEDIAN_MORTAGE_PAYMENTS        3142 non-null object\n",
      "MEDIAN_RENT_PAYMENT            3142 non-null object\n",
      "2010_FAM_KIDS                  3142 non-null float64\n",
      "2015_FAM_KIDS                  3142 non-null float64\n",
      "CHANGE_IN_FAM_WITH_KIDS        3142 non-null float64\n",
      "INCOME_AS_PERCENT_OF_STATE     3142 non-null float64\n",
      "UNEMPLOYMENT                   3142 non-null float64\n",
      "POP_2012                       3136 non-null float64\n",
      "CRIMES_2012                    3136 non-null float64\n",
      "VIOLENT_2012                   3136 non-null float64\n",
      "CRIME_RATE                     3132 non-null float64\n",
      "VIOLENT_CRIME_RATE             3132 non-null float64\n",
      "zFAMKIDSCHANGE                 3142 non-null float64\n",
      "zPERCENT_WITH_KIDS             3142 non-null float64\n",
      "zBIRTHS_PER_CAPITA             3142 non-null float64\n",
      "zAVG_NETMIG                    3142 non-null float64\n",
      "zPOP_CHANGE                    3142 non-null float64\n",
      "zINCOME_AS_PERCENT_OF_STATE    3142 non-null float64\n",
      "zPERCENTAGE_IN_POVERTY         3142 non-null float64\n",
      "zPERCENT_W_HEALTH_INSURANCE    3142 non-null float64\n",
      "zUNEMPLOYMENT                  3142 non-null float64\n",
      "zBACHELORS_DEGREE              3142 non-null float64\n",
      "zCRIMES_2012                   3136 non-null float64\n",
      "dtypes: float64(34), object(5)\n",
      "memory usage: 1006.6+ KB\n"
     ]
    }
   ],
   "source": [
    "df.info()"
   ]
  },
  {
   "cell_type": "code",
   "execution_count": 61,
   "metadata": {
    "collapsed": true
   },
   "outputs": [],
   "source": [
    "df['zFAMKIDSCHANGE'] = (df.CHANGE_IN_FAM_WITH_KIDS - df.CHANGE_IN_FAM_WITH_KIDS.mean())/ df.CHANGE_IN_FAM_WITH_KIDS.std()"
   ]
  },
  {
   "cell_type": "code",
   "execution_count": 62,
   "metadata": {
    "collapsed": true
   },
   "outputs": [],
   "source": [
    "df['zPERCENT_WITH_KIDS'] = (df.PERCENT_WITH_KIDS - df.PERCENT_WITH_KIDS.mean())/ df.PERCENT_WITH_KIDS.std()"
   ]
  },
  {
   "cell_type": "code",
   "execution_count": 63,
   "metadata": {
    "collapsed": true
   },
   "outputs": [],
   "source": [
    "df['zBIRTHS_PER_CAPITA'] = (df.BIRTHS_PER_CAPITA - df.BIRTHS_PER_CAPITA.mean())/ df.BIRTHS_PER_CAPITA.std()"
   ]
  },
  {
   "cell_type": "code",
   "execution_count": 64,
   "metadata": {
    "collapsed": true
   },
   "outputs": [],
   "source": [
    "df['zAVG_NETMIG'] = (df.AVG_NETMIG - df.AVG_NETMIG.mean())/ df.AVG_NETMIG.std()"
   ]
  },
  {
   "cell_type": "code",
   "execution_count": 65,
   "metadata": {
    "collapsed": true
   },
   "outputs": [],
   "source": [
    "df['zPOP_CHANGE'] = (df.POP_CHANGE - df.POP_CHANGE.mean())/ df.POP_CHANGE.std()"
   ]
  },
  {
   "cell_type": "code",
   "execution_count": 66,
   "metadata": {
    "collapsed": true
   },
   "outputs": [],
   "source": [
    "df['zINCOME_AS_PERCENT_OF_STATE'] = (df.INCOME_AS_PERCENT_OF_STATE - df.INCOME_AS_PERCENT_OF_STATE.mean())/ df.INCOME_AS_PERCENT_OF_STATE.std()"
   ]
  },
  {
   "cell_type": "code",
   "execution_count": 67,
   "metadata": {
    "collapsed": true
   },
   "outputs": [],
   "source": [
    "df['zPERCENTAGE_IN_POVERTY'] = -1*((df.PERCENTAGE_IN_POVERTY - df.PERCENTAGE_IN_POVERTY.mean())/ df.PERCENTAGE_IN_POVERTY.std())"
   ]
  },
  {
   "cell_type": "code",
   "execution_count": 68,
   "metadata": {
    "collapsed": true
   },
   "outputs": [],
   "source": [
    "df['zPERCENT_W_HEALTH_INSURANCE'] = (df.PERCENT_W_HEALTH_INSURANCE - df.PERCENT_W_HEALTH_INSURANCE.mean())/ df.PERCENT_W_HEALTH_INSURANCE.std()"
   ]
  },
  {
   "cell_type": "code",
   "execution_count": 69,
   "metadata": {
    "collapsed": true
   },
   "outputs": [],
   "source": [
    "df['zUNEMPLOYMENT'] = -1*((df.UNEMPLOYMENT - df.UNEMPLOYMENT.mean())/ df.UNEMPLOYMENT.std())"
   ]
  },
  {
   "cell_type": "code",
   "execution_count": 70,
   "metadata": {
    "collapsed": true
   },
   "outputs": [],
   "source": [
    "df['zBACHELORS_DEGREE'] = (df.BACHELORS_DEGREE - df.BACHELORS_DEGREE.mean())/ df.BACHELORS_DEGREE.std()"
   ]
  },
  {
   "cell_type": "code",
   "execution_count": 71,
   "metadata": {
    "collapsed": true
   },
   "outputs": [],
   "source": [
    "df_new = df[df.POPESTIMATE2016 > 100000]"
   ]
  },
  {
   "cell_type": "code",
   "execution_count": 72,
   "metadata": {
    "collapsed": true
   },
   "outputs": [],
   "source": [
    "df_new.to_csv(\"/Users/alexmahadevan/Desktop/new.csv\")"
   ]
  },
  {
   "cell_type": "code",
   "execution_count": null,
   "metadata": {
    "collapsed": true
   },
   "outputs": [],
   "source": []
  },
  {
   "cell_type": "code",
   "execution_count": null,
   "metadata": {
    "collapsed": true
   },
   "outputs": [],
   "source": []
  }
 ],
 "metadata": {
  "kernelspec": {
   "display_name": "Python 2",
   "language": "python",
   "name": "python2"
  },
  "language_info": {
   "codemirror_mode": {
    "name": "ipython",
    "version": 2
   },
   "file_extension": ".py",
   "mimetype": "text/x-python",
   "name": "python",
   "nbconvert_exporter": "python",
   "pygments_lexer": "ipython2",
   "version": "2.7.10"
  }
 },
 "nbformat": 4,
 "nbformat_minor": 2
}
