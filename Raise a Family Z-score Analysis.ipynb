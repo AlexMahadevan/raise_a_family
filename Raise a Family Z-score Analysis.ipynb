{
 "cells": [
  {
   "cell_type": "markdown",
   "metadata": {},
   "source": [
    "### Top 25 Most Affordable Places to Raise a Family\n",
    "\n",
    "<p> Analysis by Alex Mahadevan</p>"
   ]
  },
  {
   "cell_type": "code",
   "execution_count": 128,
   "metadata": {
    "collapsed": true
   },
   "outputs": [],
   "source": [
    "import pandas as pd"
   ]
  },
  {
   "cell_type": "markdown",
   "metadata": {},
   "source": [
    "<p>I used a combination of PANDAS and Excel to clean and merge all of the data herein. Sources include the [U.S. Census Bureau's American Community Survey](\"https://www.census.gov/acs/www/data/data-tables-and-tools/data-profiles/2015/\"), [University of Michigan's Institute for Social Research](\"http://www.icpsr.umich.edu/icpsrweb/NACJD/studies/35019\"), [The U.S. Bureau of Labor Statistics](\"https://data.bls.gov/map/MapToolServlet?survey=la&map=county&seasonal=u\") and [The Robert Wood Johnson Foundation](\"http://www.countyhealthrankings.org/reports/2017-county-health-rankings-key-findings-report\")."
   ]
  },
  {
   "cell_type": "markdown",
   "metadata": {},
   "source": [
    "<p>Let's read it all in</p>"
   ]
  },
  {
   "cell_type": "code",
   "execution_count": 129,
   "metadata": {
    "collapsed": true
   },
   "outputs": [],
   "source": [
    "df = pd.read_csv(\"/Users/alexmahadevan/Code/raise_a_family/county data.csv\" , index_col=0)"
   ]
  },
  {
   "cell_type": "markdown",
   "metadata": {},
   "source": [
    "<p>Here is a list of the variables we are considering. For now, I'm not going to analyze crime, because Florida and Alabama were not included and I'll eventually hardcode those in after an initial culling of the herd.</p>"
   ]
  },
  {
   "cell_type": "code",
   "execution_count": 130,
   "metadata": {},
   "outputs": [
    {
     "name": "stdout",
     "output_type": "stream",
     "text": [
      "<class 'pandas.core.frame.DataFrame'>\n",
      "Float64Index: 3220 entries, 1.0 to nan\n",
      "Data columns (total 31 columns):\n",
      "SUMLEV                        3141 non-null float64\n",
      "REGION                        3141 non-null float64\n",
      "DIVISION                      3141 non-null float64\n",
      "STATE                         3141 non-null float64\n",
      "COUNTY                        3141 non-null float64\n",
      "STNAME                        3141 non-null object\n",
      "CTY                           3141 non-null object\n",
      "Unnamed: 8                    3135 non-null object\n",
      "POPESTIMATE2016               3141 non-null float64\n",
      "AVG_NETMIG                    3141 non-null float64\n",
      "POP_CHANGE                    3141 non-null float64\n",
      "BIRTHS_PER_CAPITA             3141 non-null float64\n",
      "MEDIAN_HOUSEHOLD_INCOME       3141 non-null float64\n",
      "PERCENT_W_HEALTH_INSURANCE    3141 non-null float64\n",
      "PERCENTAGE_IN_POVERTY         3141 non-null float64\n",
      "PERCENT_WITH_KIDS             3141 non-null float64\n",
      "BACHELORS_DEGREE              3141 non-null float64\n",
      "MEDIAN_MORTAGE_PAYMENTS       3141 non-null float64\n",
      "MEDIAN_RENT_PAYMENT           3141 non-null float64\n",
      "2010_FAM_KIDS                 3141 non-null float64\n",
      "2015_FAM_KIDS                 3141 non-null float64\n",
      "CHANGE_IN_FAM_WITH_KIDS       3141 non-null float64\n",
      "INCOME_AS_PERCENT_OF_STATE    3141 non-null float64\n",
      "UNEMPLOYMENT                  3141 non-null float64\n",
      "MORTGAGE_INCOME_RATIO         3141 non-null float64\n",
      "RENT_INCOME_RATIO             3141 non-null float64\n",
      "DOCTORS                       3000 non-null float64\n",
      "EXERCISE_ACCESS               3062 non-null float64\n",
      "FOOD_ENVIRONMENT_INDEX        3135 non-null float64\n",
      "CIVIC_ASSOCIATIONS            3135 non-null float64\n",
      "CRIME_RATE                    2966 non-null float64\n",
      "dtypes: float64(28), object(3)\n",
      "memory usage: 805.0+ KB\n"
     ]
    }
   ],
   "source": [
    "df.info()"
   ]
  },
  {
   "cell_type": "markdown",
   "metadata": {},
   "source": [
    "<p>Now I'm going to tweak PANDAS so it doesn't revert every number to its scientific format</p>"
   ]
  },
  {
   "cell_type": "code",
   "execution_count": 131,
   "metadata": {
    "collapsed": true
   },
   "outputs": [],
   "source": [
    "pd.set_option('display.float_format', lambda x: '%.3f' % x)"
   ]
  },
  {
   "cell_type": "markdown",
   "metadata": {},
   "source": [
    "<p>Now let's start with the initial Z-scores. Here's the formula we'll use to normalize all the data so we can compare apples to apples: z = (x – μ) / σ.</p>"
   ]
  },
  {
   "cell_type": "code",
   "execution_count": 132,
   "metadata": {
    "collapsed": true
   },
   "outputs": [],
   "source": [
    "df['zFAMKIDSCHANGE'] = (df.CHANGE_IN_FAM_WITH_KIDS - df.CHANGE_IN_FAM_WITH_KIDS.mean())/ df.CHANGE_IN_FAM_WITH_KIDS.std()"
   ]
  },
  {
   "cell_type": "code",
   "execution_count": 133,
   "metadata": {
    "collapsed": true
   },
   "outputs": [],
   "source": [
    "df['zPERCENT_WITH_KIDS'] = (df.PERCENT_WITH_KIDS - df.PERCENT_WITH_KIDS.mean())/ df.PERCENT_WITH_KIDS.std()"
   ]
  },
  {
   "cell_type": "code",
   "execution_count": 134,
   "metadata": {
    "collapsed": true
   },
   "outputs": [],
   "source": [
    "df['zBIRTHS_PER_CAPITA'] = (df.BIRTHS_PER_CAPITA - df.BIRTHS_PER_CAPITA.mean())/ df.BIRTHS_PER_CAPITA.std()"
   ]
  },
  {
   "cell_type": "code",
   "execution_count": 135,
   "metadata": {
    "collapsed": true
   },
   "outputs": [],
   "source": [
    "df['zAVG_NETMIG'] = (df.AVG_NETMIG - df.AVG_NETMIG.mean())/ df.AVG_NETMIG.std()"
   ]
  },
  {
   "cell_type": "code",
   "execution_count": 136,
   "metadata": {
    "collapsed": true
   },
   "outputs": [],
   "source": [
    "df['zPOP_CHANGE'] = (df.POP_CHANGE - df.POP_CHANGE.mean())/ df.POP_CHANGE.std()"
   ]
  },
  {
   "cell_type": "code",
   "execution_count": 137,
   "metadata": {
    "collapsed": true
   },
   "outputs": [],
   "source": [
    "df['zINCOME_AS_PERCENT_OF_STATE'] = (df.INCOME_AS_PERCENT_OF_STATE - df.INCOME_AS_PERCENT_OF_STATE.mean())/ df.INCOME_AS_PERCENT_OF_STATE.std()"
   ]
  },
  {
   "cell_type": "code",
   "execution_count": 138,
   "metadata": {
    "collapsed": true
   },
   "outputs": [],
   "source": [
    "df['zPERCENTAGE_IN_POVERTY'] = -1*((df.PERCENTAGE_IN_POVERTY - df.PERCENTAGE_IN_POVERTY.mean())/ df.PERCENTAGE_IN_POVERTY.std())"
   ]
  },
  {
   "cell_type": "code",
   "execution_count": 139,
   "metadata": {
    "collapsed": true
   },
   "outputs": [],
   "source": [
    "df['zPERCENT_W_HEALTH_INSURANCE'] = (df.PERCENT_W_HEALTH_INSURANCE - df.PERCENT_W_HEALTH_INSURANCE.mean())/ df.PERCENT_W_HEALTH_INSURANCE.std()"
   ]
  },
  {
   "cell_type": "code",
   "execution_count": 140,
   "metadata": {
    "collapsed": true
   },
   "outputs": [],
   "source": [
    "df['zUNEMPLOYMENT'] = -1*((df.UNEMPLOYMENT - df.UNEMPLOYMENT.mean())/ df.UNEMPLOYMENT.std())"
   ]
  },
  {
   "cell_type": "code",
   "execution_count": 141,
   "metadata": {
    "collapsed": true
   },
   "outputs": [],
   "source": [
    "df['zBACHELORS_DEGREE'] = (df.BACHELORS_DEGREE - df.BACHELORS_DEGREE.mean())/ df.BACHELORS_DEGREE.std()"
   ]
  },
  {
   "cell_type": "code",
   "execution_count": 142,
   "metadata": {
    "collapsed": true
   },
   "outputs": [],
   "source": [
    "df['zMORTGAGE_INCOME_RATIO'] = (df.MORTGAGE_INCOME_RATIO - df.MORTGAGE_INCOME_RATIO.mean())/ df.MORTGAGE_INCOME_RATIO.std()"
   ]
  },
  {
   "cell_type": "code",
   "execution_count": 143,
   "metadata": {
    "collapsed": true
   },
   "outputs": [],
   "source": [
    "df['zRENT_INCOME_RATIO'] = (df.RENT_INCOME_RATIO - df.RENT_INCOME_RATIO.mean())/ df.RENT_INCOME_RATIO.std()"
   ]
  },
  {
   "cell_type": "markdown",
   "metadata": {
    "collapsed": true
   },
   "source": [
    "<p>We now have normalized values for 12 variables. We will use these 12 variables to narrow the list down to 11 or 200 cities. Then I'll add crime and school data along with pollution data to the mix.</p>\n",
    "<p>First, I'm going to drop all of the counties that have populations smaller than 100,000.</p>"
   ]
  },
  {
   "cell_type": "code",
   "execution_count": 92,
   "metadata": {
    "collapsed": true
   },
   "outputs": [],
   "source": []
  },
  {
   "cell_type": "code",
   "execution_count": 93,
   "metadata": {
    "collapsed": true
   },
   "outputs": [],
   "source": []
  },
  {
   "cell_type": "code",
   "execution_count": 144,
   "metadata": {
    "collapsed": true
   },
   "outputs": [],
   "source": [
    "cities['CTY'] = cities['name'] + \", \" + cities['county']"
   ]
  },
  {
   "cell_type": "code",
   "execution_count": 156,
   "metadata": {},
   "outputs": [],
   "source": [
    "merged = pd.merge(cities, df, how='outer', on='CTY', copy=True)"
   ]
  },
  {
   "cell_type": "code",
   "execution_count": 157,
   "metadata": {},
   "outputs": [
    {
     "data": {
      "text/html": [
       "<div>\n",
       "<style>\n",
       "    .dataframe thead tr:only-child th {\n",
       "        text-align: right;\n",
       "    }\n",
       "\n",
       "    .dataframe thead th {\n",
       "        text-align: left;\n",
       "    }\n",
       "\n",
       "    .dataframe tbody tr th {\n",
       "        vertical-align: top;\n",
       "    }\n",
       "</style>\n",
       "<table border=\"1\" class=\"dataframe\">\n",
       "  <thead>\n",
       "    <tr style=\"text-align: right;\">\n",
       "      <th></th>\n",
       "      <th>id</th>\n",
       "      <th>name</th>\n",
       "      <th>county</th>\n",
       "      <th>state_code</th>\n",
       "      <th>state</th>\n",
       "      <th>zip_codes</th>\n",
       "      <th>type</th>\n",
       "      <th>latitude</th>\n",
       "      <th>longitude</th>\n",
       "      <th>area_code</th>\n",
       "      <th>...</th>\n",
       "      <th>zBIRTHS_PER_CAPITA</th>\n",
       "      <th>zAVG_NETMIG</th>\n",
       "      <th>zPOP_CHANGE</th>\n",
       "      <th>zINCOME_AS_PERCENT_OF_STATE</th>\n",
       "      <th>zPERCENTAGE_IN_POVERTY</th>\n",
       "      <th>zPERCENT_W_HEALTH_INSURANCE</th>\n",
       "      <th>zUNEMPLOYMENT</th>\n",
       "      <th>zBACHELORS_DEGREE</th>\n",
       "      <th>zMORTGAGE_INCOME_RATIO</th>\n",
       "      <th>zRENT_INCOME_RATIO</th>\n",
       "    </tr>\n",
       "  </thead>\n",
       "  <tbody>\n",
       "    <tr>\n",
       "      <th>0</th>\n",
       "      <td>1.000</td>\n",
       "      <td>Adak</td>\n",
       "      <td>Aleutians West Census Area</td>\n",
       "      <td>AK</td>\n",
       "      <td>Alaska</td>\n",
       "      <td>99546</td>\n",
       "      <td>City</td>\n",
       "      <td>51.880</td>\n",
       "      <td>-176.658</td>\n",
       "      <td>907</td>\n",
       "      <td>...</td>\n",
       "      <td>nan</td>\n",
       "      <td>nan</td>\n",
       "      <td>nan</td>\n",
       "      <td>nan</td>\n",
       "      <td>nan</td>\n",
       "      <td>nan</td>\n",
       "      <td>nan</td>\n",
       "      <td>nan</td>\n",
       "      <td>nan</td>\n",
       "      <td>nan</td>\n",
       "    </tr>\n",
       "    <tr>\n",
       "      <th>1</th>\n",
       "      <td>2.000</td>\n",
       "      <td>Akhiok</td>\n",
       "      <td>Kodiak Island Borough</td>\n",
       "      <td>AK</td>\n",
       "      <td>Alaska</td>\n",
       "      <td>99615</td>\n",
       "      <td>City</td>\n",
       "      <td>56.946</td>\n",
       "      <td>-154.170</td>\n",
       "      <td>907</td>\n",
       "      <td>...</td>\n",
       "      <td>nan</td>\n",
       "      <td>nan</td>\n",
       "      <td>nan</td>\n",
       "      <td>nan</td>\n",
       "      <td>nan</td>\n",
       "      <td>nan</td>\n",
       "      <td>nan</td>\n",
       "      <td>nan</td>\n",
       "      <td>nan</td>\n",
       "      <td>nan</td>\n",
       "    </tr>\n",
       "    <tr>\n",
       "      <th>2</th>\n",
       "      <td>3.000</td>\n",
       "      <td>Akiachak</td>\n",
       "      <td>Bethel Census Area</td>\n",
       "      <td>AK</td>\n",
       "      <td>Alaska</td>\n",
       "      <td>99551</td>\n",
       "      <td>CDP</td>\n",
       "      <td>60.909</td>\n",
       "      <td>-161.431</td>\n",
       "      <td>907</td>\n",
       "      <td>...</td>\n",
       "      <td>nan</td>\n",
       "      <td>nan</td>\n",
       "      <td>nan</td>\n",
       "      <td>nan</td>\n",
       "      <td>nan</td>\n",
       "      <td>nan</td>\n",
       "      <td>nan</td>\n",
       "      <td>nan</td>\n",
       "      <td>nan</td>\n",
       "      <td>nan</td>\n",
       "    </tr>\n",
       "    <tr>\n",
       "      <th>3</th>\n",
       "      <td>4.000</td>\n",
       "      <td>Akiak</td>\n",
       "      <td>Bethel Census Area</td>\n",
       "      <td>AK</td>\n",
       "      <td>Alaska</td>\n",
       "      <td>99552</td>\n",
       "      <td>City</td>\n",
       "      <td>60.912</td>\n",
       "      <td>-161.214</td>\n",
       "      <td>907</td>\n",
       "      <td>...</td>\n",
       "      <td>nan</td>\n",
       "      <td>nan</td>\n",
       "      <td>nan</td>\n",
       "      <td>nan</td>\n",
       "      <td>nan</td>\n",
       "      <td>nan</td>\n",
       "      <td>nan</td>\n",
       "      <td>nan</td>\n",
       "      <td>nan</td>\n",
       "      <td>nan</td>\n",
       "    </tr>\n",
       "    <tr>\n",
       "      <th>4</th>\n",
       "      <td>5.000</td>\n",
       "      <td>Akutan</td>\n",
       "      <td>Aleutians East Borough</td>\n",
       "      <td>AK</td>\n",
       "      <td>Alaska</td>\n",
       "      <td>99553</td>\n",
       "      <td>City</td>\n",
       "      <td>54.136</td>\n",
       "      <td>-165.773</td>\n",
       "      <td>907</td>\n",
       "      <td>...</td>\n",
       "      <td>nan</td>\n",
       "      <td>nan</td>\n",
       "      <td>nan</td>\n",
       "      <td>nan</td>\n",
       "      <td>nan</td>\n",
       "      <td>nan</td>\n",
       "      <td>nan</td>\n",
       "      <td>nan</td>\n",
       "      <td>nan</td>\n",
       "      <td>nan</td>\n",
       "    </tr>\n",
       "  </tbody>\n",
       "</table>\n",
       "<p>5 rows × 59 columns</p>\n",
       "</div>"
      ],
      "text/plain": [
       "     id      name                      county state_code   state zip_codes  \\\n",
       "0 1.000      Adak  Aleutians West Census Area         AK  Alaska     99546   \n",
       "1 2.000    Akhiok       Kodiak Island Borough         AK  Alaska     99615   \n",
       "2 3.000  Akiachak          Bethel Census Area         AK  Alaska     99551   \n",
       "3 4.000     Akiak          Bethel Census Area         AK  Alaska     99552   \n",
       "4 5.000    Akutan      Aleutians East Borough         AK  Alaska     99553   \n",
       "\n",
       "   type  latitude  longitude area_code         ...          \\\n",
       "0  City    51.880   -176.658       907         ...           \n",
       "1  City    56.946   -154.170       907         ...           \n",
       "2   CDP    60.909   -161.431       907         ...           \n",
       "3  City    60.912   -161.214       907         ...           \n",
       "4  City    54.136   -165.773       907         ...           \n",
       "\n",
       "   zBIRTHS_PER_CAPITA  zAVG_NETMIG  zPOP_CHANGE  zINCOME_AS_PERCENT_OF_STATE  \\\n",
       "0                 nan          nan          nan                          nan   \n",
       "1                 nan          nan          nan                          nan   \n",
       "2                 nan          nan          nan                          nan   \n",
       "3                 nan          nan          nan                          nan   \n",
       "4                 nan          nan          nan                          nan   \n",
       "\n",
       "   zPERCENTAGE_IN_POVERTY zPERCENT_W_HEALTH_INSURANCE zUNEMPLOYMENT  \\\n",
       "0                     nan                         nan           nan   \n",
       "1                     nan                         nan           nan   \n",
       "2                     nan                         nan           nan   \n",
       "3                     nan                         nan           nan   \n",
       "4                     nan                         nan           nan   \n",
       "\n",
       "   zBACHELORS_DEGREE  zMORTGAGE_INCOME_RATIO  zRENT_INCOME_RATIO  \n",
       "0                nan                     nan                 nan  \n",
       "1                nan                     nan                 nan  \n",
       "2                nan                     nan                 nan  \n",
       "3                nan                     nan                 nan  \n",
       "4                nan                     nan                 nan  \n",
       "\n",
       "[5 rows x 59 columns]"
      ]
     },
     "execution_count": 157,
     "metadata": {},
     "output_type": "execute_result"
    }
   ],
   "source": [
    "merged.head(5)"
   ]
  },
  {
   "cell_type": "raw",
   "metadata": {},
   "source": []
  },
  {
   "cell_type": "code",
   "execution_count": null,
   "metadata": {},
   "outputs": [],
   "source": []
  },
  {
   "cell_type": "raw",
   "metadata": {},
   "source": []
  },
  {
   "cell_type": "code",
   "execution_count": null,
   "metadata": {
    "collapsed": true
   },
   "outputs": [],
   "source": []
  }
 ],
 "metadata": {
  "kernelspec": {
   "display_name": "Python 2",
   "language": "python",
   "name": "python2"
  },
  "language_info": {
   "codemirror_mode": {
    "name": "ipython",
    "version": 2
   },
   "file_extension": ".py",
   "mimetype": "text/x-python",
   "name": "python",
   "nbconvert_exporter": "python",
   "pygments_lexer": "ipython2",
   "version": "2.7.10"
  }
 },
 "nbformat": 4,
 "nbformat_minor": 2
}
