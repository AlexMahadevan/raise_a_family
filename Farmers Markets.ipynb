{
 "cells": [
  {
   "cell_type": "code",
   "execution_count": 1,
   "metadata": {
    "collapsed": true
   },
   "outputs": [],
   "source": [
    "import pandas as pd"
   ]
  },
  {
   "cell_type": "code",
   "execution_count": 3,
   "metadata": {},
   "outputs": [],
   "source": [
    "df = pd.read_csv(\"/Users/alexmahadevan/Code/raise_a_family/farmers-markets.csv\")"
   ]
  },
  {
   "cell_type": "code",
   "execution_count": 5,
   "metadata": {},
   "outputs": [
    {
     "name": "stdout",
     "output_type": "stream",
     "text": [
      "<class 'pandas.core.frame.DataFrame'>\n",
      "RangeIndex: 8704 entries, 0 to 8703\n",
      "Data columns (total 59 columns):\n",
      "FMID             8704 non-null int64\n",
      "MarketName       8704 non-null object\n",
      "Website          5226 non-null object\n",
      "Facebook         3966 non-null object\n",
      "Twitter          1011 non-null object\n",
      "Youtube          179 non-null object\n",
      "OtherMedia       742 non-null object\n",
      "street           8412 non-null object\n",
      "city             8665 non-null object\n",
      "County           8190 non-null object\n",
      "State            8704 non-null object\n",
      "zip              7763 non-null object\n",
      "Season1Date      5503 non-null object\n",
      "Season1Time      5666 non-null object\n",
      "Season2Date      452 non-null object\n",
      "Season2Time      441 non-null object\n",
      "Season3Date      81 non-null object\n",
      "Season3Time      77 non-null object\n",
      "Season4Date      6 non-null object\n",
      "Season4Time      6 non-null object\n",
      "x                8675 non-null float64\n",
      "y                8675 non-null float64\n",
      "Location         2712 non-null object\n",
      "Credit           8704 non-null object\n",
      "WIC              8704 non-null object\n",
      "WICcash          8704 non-null object\n",
      "SFMNP            8704 non-null object\n",
      "SNAP             8704 non-null object\n",
      "Organic          8704 non-null object\n",
      "Bakedgoods       8704 non-null object\n",
      "Cheese           8704 non-null object\n",
      "Crafts           8704 non-null object\n",
      "Flowers          8704 non-null object\n",
      "Eggs             8704 non-null object\n",
      "Seafood          8704 non-null object\n",
      "Herbs            8704 non-null object\n",
      "Vegetables       8704 non-null object\n",
      "Honey            8704 non-null object\n",
      "Jams             8704 non-null object\n",
      "Maple            8704 non-null object\n",
      "Meat             8704 non-null object\n",
      "Nursery          8704 non-null object\n",
      "Nuts             8704 non-null object\n",
      "Plants           8704 non-null object\n",
      "Poultry          8704 non-null object\n",
      "Prepared         8704 non-null object\n",
      "Soap             8704 non-null object\n",
      "Trees            8704 non-null object\n",
      "Wine             8704 non-null object\n",
      "Coffee           8704 non-null object\n",
      "Beans            8704 non-null object\n",
      "Fruits           8704 non-null object\n",
      "Grains           8704 non-null object\n",
      "Juices           8704 non-null object\n",
      "Mushrooms        8704 non-null object\n",
      "PetFood          8704 non-null object\n",
      "Tofu             8704 non-null object\n",
      "WildHarvested    8704 non-null object\n",
      "updateTime       8704 non-null object\n",
      "dtypes: float64(2), int64(1), object(56)\n",
      "memory usage: 3.9+ MB\n"
     ]
    }
   ],
   "source": [
    "df.info()"
   ]
  },
  {
   "cell_type": "code",
   "execution_count": 6,
   "metadata": {
    "collapsed": true
   },
   "outputs": [],
   "source": [
    "df['COUNTY'] = df['County'] + \", \" + df['State']"
   ]
  },
  {
   "cell_type": "code",
   "execution_count": 8,
   "metadata": {},
   "outputs": [
    {
     "data": {
      "text/plain": [
       "Los Angeles, California                       121\n",
       "Cook, Illinois                                 97\n",
       "New York, New York                             58\n",
       "Middlesex, Massachusetts                       57\n",
       "District of Columbia, District of Columbia     57\n",
       "Worcester, Massachusetts                       55\n",
       "Philadelphia, Pennsylvania                     49\n",
       "Hennepin, Minnesota                            46\n",
       "San Diego, California                          44\n",
       "Honolulu, Hawaii                               43\n",
       "King, Washington                               42\n",
       "Bronx, New York                                40\n",
       "Dane, Wisconsin                                38\n",
       "Santa Clara, California                        37\n",
       "Maricopa, Arizona                              36\n",
       "Kings, New York                                35\n",
       "Alameda, California                            34\n",
       "Hartford, Connecticut                          33\n",
       "Westchester, New York                          31\n",
       "Miami-Dade, Florida                            31\n",
       "Monroe, New York                               29\n",
       "Fairfield, Connecticut                         29\n",
       "Multnomah, Oregon                              29\n",
       "Cuyahoga, Ohio                                 29\n",
       "Wayne, Michigan                                28\n",
       "Suffolk, Massachusetts                         27\n",
       "Contra Costa, California                       26\n",
       "San Francisco, California                      26\n",
       "Essex, Massachusetts                           25\n",
       "Orange, California                             25\n",
       "                                             ... \n",
       "Izard, Arkansas                                 1\n",
       "Barnes, North Dakota                            1\n",
       "Grant, Washington                               1\n",
       "Deaf Smith, Texas                               1\n",
       "Fayette, Indiana                                1\n",
       "Cherry, Nebraska                                1\n",
       "Madison, Virginia                               1\n",
       "Northampton, Virginia                           1\n",
       "Sweet Grass, Montana                            1\n",
       "Stevens, Minnesota                              1\n",
       "Yankton, South Dakota                           1\n",
       "Bates, Missouri                                 1\n",
       "Kendall, Illinois                               1\n",
       "Beadle, South Dakota                            1\n",
       "Randolph, Indiana                               1\n",
       "Jackson County, Michigan                        1\n",
       "Adjuntas, Puerto Rico                           1\n",
       "Lamar, Alabama                                  1\n",
       "Gillespie, Texas                                1\n",
       "Montgomery, Texas                               1\n",
       "Brazos, Texas                                   1\n",
       "West Feliciana, Louisiana                       1\n",
       "Lawrence, Arkansas                              1\n",
       "Scott, Virginia                                 1\n",
       "Shelby, Missouri                                1\n",
       "Dekalb, Alabama                                 1\n",
       "Whitfield, Georgia                              1\n",
       "Palo Alto, Iowa                                 1\n",
       "Cibola, New Mexico                              1\n",
       "Boone, Iowa                                     1\n",
       "Name: COUNTY, Length: 2361, dtype: int64"
      ]
     },
     "execution_count": 8,
     "metadata": {},
     "output_type": "execute_result"
    }
   ],
   "source": [
    "df.COUNTY.value_counts()"
   ]
  },
  {
   "cell_type": "code",
   "execution_count": 9,
   "metadata": {
    "collapsed": true
   },
   "outputs": [],
   "source": [
    "farmers_markets = df.COUNTY.value_counts()"
   ]
  },
  {
   "cell_type": "code",
   "execution_count": 11,
   "metadata": {},
   "outputs": [],
   "source": [
    "farmers_markets.to_csv(\"/Users/alexmahadevan/Code/raise_a_family/farmers-markets-by-county.csv\")"
   ]
  },
  {
   "cell_type": "code",
   "execution_count": null,
   "metadata": {
    "collapsed": true
   },
   "outputs": [],
   "source": []
  }
 ],
 "metadata": {
  "kernelspec": {
   "display_name": "Python 2",
   "language": "python",
   "name": "python2"
  },
  "language_info": {
   "codemirror_mode": {
    "name": "ipython",
    "version": 2
   },
   "file_extension": ".py",
   "mimetype": "text/x-python",
   "name": "python",
   "nbconvert_exporter": "python",
   "pygments_lexer": "ipython2",
   "version": "2.7.10"
  }
 },
 "nbformat": 4,
 "nbformat_minor": 2
}
