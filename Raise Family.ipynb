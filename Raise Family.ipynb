{
 "cells": [
  {
   "cell_type": "markdown",
   "metadata": {},
   "source": [
    "# ‘Affordable Places to Raise a Family’ Analysis"
   ]
  },
  {
   "cell_type": "markdown",
   "metadata": {},
   "source": [
    "## <i>Data Work</i>"
   ]
  },
  {
   "cell_type": "code",
   "execution_count": 1,
   "metadata": {
    "collapsed": true
   },
   "outputs": [],
   "source": [
    "import pandas as pd"
   ]
  },
  {
   "cell_type": "markdown",
   "metadata": {},
   "source": [
    "### Population, Migration and Births\n",
    "\n",
    "<p>Let's read in the population dataset from 2010 - 2016. As a plus it has births and migration data we can use in the analysis.</p>\n",
    "<p>Data is courtesy of the [U.S. Census Bureau](https://www2.census.gov/programs-surveys/popest/datasets/2010-2016/metro/totals/cbsa-est2016-alldata.csv).</p>"
   ]
  },
  {
   "cell_type": "code",
   "execution_count": 2,
   "metadata": {
    "collapsed": true
   },
   "outputs": [],
   "source": [
    "df = pd.read_csv(\"/Users/alexmahadevan/Desktop/Projects/Raise a Family/cbsa-est2016-alldata.csv\")"
   ]
  },
  {
   "cell_type": "markdown",
   "metadata": {},
   "source": [
    "<p>If people are moving to a county or metropolitan area, that probably means it's a good place to live.</p>\n",
    "\n",
    "<p>So we'll go ahead and create a new variable that takes into account the average annual net migration to a region called AVG_NETMIG. The higher the number, the greater average migration to the municipality.</p>\n",
    "<p>But, wait. Won't way more people be moving to a huge city like Miami than a smaller one like Sarasota?</p>\n",
    "<p>To control for population amount, let's find the net migration per capita by diving net migration in each year by the population estimate for that year.</p>"
   ]
  },
  {
   "cell_type": "code",
   "execution_count": 3,
   "metadata": {
    "collapsed": true
   },
   "outputs": [],
   "source": [
    "df['AVG_NETMIG'] = (df['NETMIG2011']/df['POPESTIMATE2011'] +\n",
    "df['NETMIG2012']/df['POPESTIMATE2012'] + df['NETMIG2013']/df['POPESTIMATE2013'] +\n",
    "df['NETMIG2014']/df['POPESTIMATE2014'] + df['NETMIG2015']/df['POPESTIMATE2015'] +\n",
    "df['NETMIG2016']/df['POPESTIMATE2016'])/6"
   ]
  },
  {
   "cell_type": "markdown",
   "metadata": {},
   "source": [
    "<p>But, we also want to take into account the overall change in population between 2010 and 2016.</p>\n",
    "\n",
    "<p>So we will create a new variable called POP_CHANGE.</p>"
   ]
  },
  {
   "cell_type": "code",
   "execution_count": 4,
   "metadata": {
    "collapsed": true
   },
   "outputs": [],
   "source": [
    "df['POP_CHANGE'] = (df['POPESTIMATE2016'] - df['POPESTIMATE2010']) / df['POPESTIMATE2010']"
   ]
  },
  {
   "cell_type": "markdown",
   "metadata": {},
   "source": [
    "<p>You probably want to raise a family where other people are raising a family right?</p>\n",
    "<p>This statistics may not be the best (since sometimes high birth rates correlate with poverty), but let's create a new variable for births per capita for 2016.</p>\n",
    "<p>We shall call it BIRTHS_PER_CAPITA.</p>"
   ]
  },
  {
   "cell_type": "code",
   "execution_count": 5,
   "metadata": {
    "collapsed": true
   },
   "outputs": [],
   "source": [
    "df['BIRTHS_PER_CAPITA'] = df['BIRTHS2016']/df['POPESTIMATE2016']"
   ]
  },
  {
   "cell_type": "markdown",
   "metadata": {},
   "source": [
    "<p>Are there any other variables we can create that would be important to someone looking to raise a family?</p>\n",
    "\n",
    "<p>Not from this dataset, but while we're thinking about it, let's drill it down to the 382 metropolitan statistical areas.</p>\n",
    "\n",
    "<p>First, let's count the number of types in the variable LSAD to make sure we have 382.</p>"
   ]
  },
  {
   "cell_type": "code",
   "execution_count": 6,
   "metadata": {},
   "outputs": [
    {
     "data": {
      "text/plain": [
       "County or equivalent             1825\n",
       "Micropolitan Statistical Area     551\n",
       "Metropolitan Statistical Area     382\n",
       "Metropolitan Division              31\n",
       "Name: LSAD, dtype: int64"
      ]
     },
     "execution_count": 6,
     "metadata": {},
     "output_type": "execute_result"
    }
   ],
   "source": [
    "df.LSAD.value_counts()"
   ]
  },
  {
   "cell_type": "markdown",
   "metadata": {},
   "source": [
    "<p>Success! Now, let's drill it down by creating a new dataframe called MSA_POP.</p>"
   ]
  },
  {
   "cell_type": "code",
   "execution_count": 7,
   "metadata": {
    "collapsed": true
   },
   "outputs": [],
   "source": [
    "MSA_POP = df[df.LSAD == 'Metropolitan Statistical Area']"
   ]
  },
  {
   "cell_type": "markdown",
   "metadata": {},
   "source": [
    "<p><b>Let's just leave that there for now, and explore other variables we can add to this analysis.</b></p>"
   ]
  },
  {
   "cell_type": "markdown",
   "metadata": {},
   "source": [
    "### Museums\n",
    "\n",
    "<p>I found a data set that has all of the museums in cities, let's have a look at that.</p>"
   ]
  },
  {
   "cell_type": "code",
   "execution_count": 8,
   "metadata": {
    "collapsed": true
   },
   "outputs": [],
   "source": [
    "MUSEUM = pd.read_csv(\"/Users/alexmahadevan/Desktop/Projects/Raise a Family/Workbook1.csv\")"
   ]
  },
  {
   "cell_type": "code",
   "execution_count": 9,
   "metadata": {},
   "outputs": [
    {
     "data": {
      "text/html": [
       "<div>\n",
       "<style>\n",
       "    .dataframe thead tr:only-child th {\n",
       "        text-align: right;\n",
       "    }\n",
       "\n",
       "    .dataframe thead th {\n",
       "        text-align: left;\n",
       "    }\n",
       "\n",
       "    .dataframe tbody tr th {\n",
       "        vertical-align: top;\n",
       "    }\n",
       "</style>\n",
       "<table border=\"1\" class=\"dataframe\">\n",
       "  <thead>\n",
       "    <tr style=\"text-align: right;\">\n",
       "      <th></th>\n",
       "      <th>ADCITY</th>\n",
       "      <th>ADSTATE</th>\n",
       "      <th>Unnamed: 2</th>\n",
       "    </tr>\n",
       "  </thead>\n",
       "  <tbody>\n",
       "    <tr>\n",
       "      <th>0</th>\n",
       "      <td>SITKA</td>\n",
       "      <td>AK</td>\n",
       "      <td>SITKA, AK</td>\n",
       "    </tr>\n",
       "    <tr>\n",
       "      <th>1</th>\n",
       "      <td>KING SALMON</td>\n",
       "      <td>AK</td>\n",
       "      <td>KING SALMON, AK</td>\n",
       "    </tr>\n",
       "    <tr>\n",
       "      <th>2</th>\n",
       "      <td>FAIRBANKS</td>\n",
       "      <td>AK</td>\n",
       "      <td>FAIRBANKS, AK</td>\n",
       "    </tr>\n",
       "    <tr>\n",
       "      <th>3</th>\n",
       "      <td>PALMER</td>\n",
       "      <td>AK</td>\n",
       "      <td>PALMER, AK</td>\n",
       "    </tr>\n",
       "    <tr>\n",
       "      <th>4</th>\n",
       "      <td>KODIAK</td>\n",
       "      <td>AK</td>\n",
       "      <td>KODIAK, AK</td>\n",
       "    </tr>\n",
       "  </tbody>\n",
       "</table>\n",
       "</div>"
      ],
      "text/plain": [
       "        ADCITY ADSTATE       Unnamed: 2\n",
       "0        SITKA      AK        SITKA, AK\n",
       "1  KING SALMON      AK  KING SALMON, AK\n",
       "2    FAIRBANKS      AK    FAIRBANKS, AK\n",
       "3       PALMER      AK       PALMER, AK\n",
       "4       KODIAK      AK       KODIAK, AK"
      ]
     },
     "execution_count": 9,
     "metadata": {},
     "output_type": "execute_result"
    }
   ],
   "source": [
    "MUSEUM.head()"
   ]
  },
  {
   "cell_type": "markdown",
   "metadata": {},
   "source": [
    "<p>As you can see, we need to concatenate the city and state variables since there are a ton of similarly named cities throughout U.S. states</p>"
   ]
  },
  {
   "cell_type": "code",
   "execution_count": 10,
   "metadata": {
    "collapsed": true
   },
   "outputs": [],
   "source": [
    "MUSEUM['CITY'] = MUSEUM['ADCITY'] + \", \" + MUSEUM['ADSTATE']"
   ]
  },
  {
   "cell_type": "code",
   "execution_count": 11,
   "metadata": {},
   "outputs": [
    {
     "data": {
      "text/plain": [
       "NEW YORK, NY            297\n",
       "CHICAGO, IL             193\n",
       "WASHINGTON, DC          188\n",
       "PHILADELPHIA, PA        179\n",
       "LOS ANGELES, CA         162\n",
       "HOUSTON, TX             133\n",
       "BALTIMORE, MD           120\n",
       "SAN FRANCISCO, CA       119\n",
       "SEATTLE, WA             103\n",
       "AUSTIN, TX               96\n",
       "PORTLAND, OR             96\n",
       "SAN DIEGO, CA            96\n",
       "DALLAS, TX               94\n",
       "BOSTON, MA               93\n",
       "DENVER, CO               89\n",
       "ATLANTA, GA              87\n",
       "PITTSBURGH, PA           84\n",
       "BROOKLYN, NY             77\n",
       "LOUISVILLE, KY           76\n",
       "CINCINNATI, OH           76\n",
       "NEW ORLEANS, LA          72\n",
       "MILWAUKEE, WI            70\n",
       "RICHMOND, VA             69\n",
       "SAN ANTONIO, TX          69\n",
       "ALBUQUERQUE, NM          68\n",
       "TUCSON, AZ               68\n",
       "HUGO, OK                 67\n",
       "CLEVELAND, OH            65\n",
       "HONOLULU, HI             64\n",
       "MIAMI, FL                64\n",
       "                       ... \n",
       "HOUSTON TX, TX            1\n",
       "FOREST PARK, GA           1\n",
       "READS LANDING, MN         1\n",
       "FREEPORT, MI              1\n",
       "MOULTRIE, GA              1\n",
       "COALGATE, OK              1\n",
       "LYONS, OH                 1\n",
       "OFALLON, MO               1\n",
       "GALETON, PA               1\n",
       "BUTTE FALLS, OR           1\n",
       "FREEPORT, TX              1\n",
       "N FT MYERS, FL            1\n",
       "WARREN, AR                1\n",
       "COLE CAMP, MO             1\n",
       "MONMOUTH, ME              1\n",
       "NOTTINGHAM, NH            1\n",
       "ELIZABETH CIT, NC         1\n",
       "GRAND COULEE, WA          1\n",
       "BAY PORT, MI              1\n",
       "DUNDEE, NY                1\n",
       "ISLE, MN                  1\n",
       "DIX HILLS, NY             1\n",
       "FLORESVILLE, TX           1\n",
       "SANTA ROSA BEACH, FL      1\n",
       "N MANCHESTER, IN          1\n",
       "BEOOKFIELD, WI            1\n",
       "LAKE BUTLER, FL           1\n",
       "SOUTH FORK, CO            1\n",
       "BASEHOR, KS               1\n",
       "GREENVILLE, AL            1\n",
       "Name: CITY, Length: 12022, dtype: int64"
      ]
     },
     "execution_count": 11,
     "metadata": {},
     "output_type": "execute_result"
    }
   ],
   "source": [
    "MUSEUM.CITY.value_counts()"
   ]
  },
  {
   "cell_type": "markdown",
   "metadata": {},
   "source": [
    "<p>Now, let's create a new database with each city and the amount of museums in each.</p>"
   ]
  },
  {
   "cell_type": "code",
   "execution_count": 12,
   "metadata": {
    "collapsed": true
   },
   "outputs": [],
   "source": [
    "MUSEUM_CITIES = MUSEUM.CITY.value_counts()"
   ]
  },
  {
   "cell_type": "code",
   "execution_count": 13,
   "metadata": {},
   "outputs": [
    {
     "data": {
      "text/plain": [
       "NEW YORK, NY        297\n",
       "CHICAGO, IL         193\n",
       "WASHINGTON, DC      188\n",
       "PHILADELPHIA, PA    179\n",
       "LOS ANGELES, CA     162\n",
       "Name: CITY, dtype: int64"
      ]
     },
     "execution_count": 13,
     "metadata": {},
     "output_type": "execute_result"
    }
   ],
   "source": [
    "MUSEUM_CITIES.head()"
   ]
  },
  {
   "cell_type": "markdown",
   "metadata": {
    "collapsed": true
   },
   "source": [
    "<p>Eventually, we should adjust this for population, but 12,022 is a lot of cities to do that with.</p>\n",
    "<p>So let's leave that database there for now until we pare down our metro data, then we can match the cities with metros that are statistically significant with their museum score.</p>"
   ]
  },
  {
   "cell_type": "markdown",
   "metadata": {},
   "source": [
    "<p><b>Let's find some more data to mess with</b></p>"
   ]
  },
  {
   "cell_type": "markdown",
   "metadata": {},
   "source": [
    "### Home Prices\n",
    "<p>This data is courtesy of the [National Association of Realtors](https://www.nar.realtor/topics/metropolitan-median-area-prices-and-affordability).\n",
    "\n",
    "<p>The numbers are in thousands.</p>"
   ]
  },
  {
   "cell_type": "code",
   "execution_count": 14,
   "metadata": {
    "collapsed": true
   },
   "outputs": [],
   "source": [
    "HOME_PRICES = pd.read_csv(\"/Users/alexmahadevan/Desktop/Projects/Raise a Family/Homeprices.csv\")"
   ]
  },
  {
   "cell_type": "code",
   "execution_count": 15,
   "metadata": {},
   "outputs": [
    {
     "data": {
      "text/html": [
       "<div>\n",
       "<style>\n",
       "    .dataframe thead tr:only-child th {\n",
       "        text-align: right;\n",
       "    }\n",
       "\n",
       "    .dataframe thead th {\n",
       "        text-align: left;\n",
       "    }\n",
       "\n",
       "    .dataframe tbody tr th {\n",
       "        vertical-align: top;\n",
       "    }\n",
       "</style>\n",
       "<table border=\"1\" class=\"dataframe\">\n",
       "  <thead>\n",
       "    <tr style=\"text-align: right;\">\n",
       "      <th></th>\n",
       "      <th>CBSA</th>\n",
       "      <th>Metropolitan Area</th>\n",
       "      <th>2014</th>\n",
       "      <th>2015</th>\n",
       "      <th>2016</th>\n",
       "      <th>2017</th>\n",
       "      <th>Change</th>\n",
       "    </tr>\n",
       "  </thead>\n",
       "  <tbody>\n",
       "    <tr>\n",
       "      <th>0</th>\n",
       "      <td>10180</td>\n",
       "      <td>Abilene, TX</td>\n",
       "      <td>136.2</td>\n",
       "      <td>151.7</td>\n",
       "      <td>157.5</td>\n",
       "      <td>158.8</td>\n",
       "      <td>2.2%</td>\n",
       "    </tr>\n",
       "  </tbody>\n",
       "</table>\n",
       "</div>"
      ],
      "text/plain": [
       "    CBSA Metropolitan Area   2014   2015   2016   2017 Change\n",
       "0  10180       Abilene, TX  136.2  151.7  157.5  158.8   2.2%"
      ]
     },
     "execution_count": 15,
     "metadata": {},
     "output_type": "execute_result"
    }
   ],
   "source": [
    "HOME_PRICES.head(1)"
   ]
  },
  {
   "cell_type": "markdown",
   "metadata": {
    "collapsed": true
   },
   "source": [
    "<p>Again, we have created the dataframe, so let's just leave it here for now and continue.</p>"
   ]
  },
  {
   "cell_type": "markdown",
   "metadata": {},
   "source": [
    "### Population, Migration and Births (Counties)\n",
    "<p>Here we're doing essentially what we did above with metropolitan statistical areas, but with counties, to give us another option for a starting point.</p>\n",
    "<p>Data is also courtesy of the [U.S. Census Bureau](https://www2.census.gov/programs-surveys/popest/datasets/2010-2016/counties/totals/co-est2016-alldata.csv)"
   ]
  },
  {
   "cell_type": "code",
   "execution_count": 16,
   "metadata": {
    "collapsed": true
   },
   "outputs": [],
   "source": [
    "df_COUNTY = pd.read_csv(\"/Users/alexmahadevan/Desktop/Projects/Raise a Family/COUNTY_POPULATION.csv\")"
   ]
  },
  {
   "cell_type": "markdown",
   "metadata": {},
   "source": [
    "<p>Just as we did with metros, let's find the average net migration for the county dataframe.</p>"
   ]
  },
  {
   "cell_type": "code",
   "execution_count": 17,
   "metadata": {
    "collapsed": true
   },
   "outputs": [],
   "source": [
    "df_COUNTY['AVG_NETMIG'] = (df_COUNTY['RNETMIG2011'] + df_COUNTY['RNETMIG2012'] +\n",
    "                           df_COUNTY['RNETMIG2013'] + df_COUNTY['RNETMIG2014'] +\n",
    "                           df_COUNTY['RNETMIG2015'] + df_COUNTY['RNETMIG2016']) / 6"
   ]
  },
  {
   "cell_type": "code",
   "execution_count": 18,
   "metadata": {},
   "outputs": [
    {
     "data": {
      "text/html": [
       "<div>\n",
       "<style>\n",
       "    .dataframe thead tr:only-child th {\n",
       "        text-align: right;\n",
       "    }\n",
       "\n",
       "    .dataframe thead th {\n",
       "        text-align: left;\n",
       "    }\n",
       "\n",
       "    .dataframe tbody tr th {\n",
       "        vertical-align: top;\n",
       "    }\n",
       "</style>\n",
       "<table border=\"1\" class=\"dataframe\">\n",
       "  <thead>\n",
       "    <tr style=\"text-align: right;\">\n",
       "      <th></th>\n",
       "      <th>SUMLEV</th>\n",
       "      <th>REGION</th>\n",
       "      <th>DIVISION</th>\n",
       "      <th>STATE</th>\n",
       "      <th>COUNTY</th>\n",
       "      <th>STNAME</th>\n",
       "      <th>CTYNAME</th>\n",
       "      <th>CODE</th>\n",
       "      <th>CENSUS2010POP</th>\n",
       "      <th>ESTIMATESBASE2010</th>\n",
       "      <th>...</th>\n",
       "      <th>RDOMESTICMIG2014</th>\n",
       "      <th>RDOMESTICMIG2015</th>\n",
       "      <th>RDOMESTICMIG2016</th>\n",
       "      <th>RNETMIG2011</th>\n",
       "      <th>RNETMIG2012</th>\n",
       "      <th>RNETMIG2013</th>\n",
       "      <th>RNETMIG2014</th>\n",
       "      <th>RNETMIG2015</th>\n",
       "      <th>RNETMIG2016</th>\n",
       "      <th>AVG_NETMIG</th>\n",
       "    </tr>\n",
       "  </thead>\n",
       "  <tbody>\n",
       "    <tr>\n",
       "      <th>0</th>\n",
       "      <td>40</td>\n",
       "      <td>3</td>\n",
       "      <td>6</td>\n",
       "      <td>1</td>\n",
       "      <td>0</td>\n",
       "      <td>Alabama</td>\n",
       "      <td>Alabama</td>\n",
       "      <td>1Alabama</td>\n",
       "      <td>4779736</td>\n",
       "      <td>4780131</td>\n",
       "      <td>...</td>\n",
       "      <td>0.086842</td>\n",
       "      <td>-0.642255</td>\n",
       "      <td>-0.177829</td>\n",
       "      <td>0.709411</td>\n",
       "      <td>1.062617</td>\n",
       "      <td>1.202226</td>\n",
       "      <td>1.065267</td>\n",
       "      <td>0.41167</td>\n",
       "      <td>0.797351</td>\n",
       "      <td>0.874757</td>\n",
       "    </tr>\n",
       "  </tbody>\n",
       "</table>\n",
       "<p>1 rows × 118 columns</p>\n",
       "</div>"
      ],
      "text/plain": [
       "   SUMLEV  REGION  DIVISION  STATE  COUNTY   STNAME  CTYNAME      CODE  \\\n",
       "0      40       3         6      1       0  Alabama  Alabama  1Alabama   \n",
       "\n",
       "   CENSUS2010POP  ESTIMATESBASE2010     ...      RDOMESTICMIG2014  \\\n",
       "0        4779736            4780131     ...              0.086842   \n",
       "\n",
       "   RDOMESTICMIG2015  RDOMESTICMIG2016  RNETMIG2011  RNETMIG2012  RNETMIG2013  \\\n",
       "0         -0.642255         -0.177829     0.709411     1.062617     1.202226   \n",
       "\n",
       "   RNETMIG2014  RNETMIG2015  RNETMIG2016  AVG_NETMIG  \n",
       "0     1.065267      0.41167     0.797351    0.874757  \n",
       "\n",
       "[1 rows x 118 columns]"
      ]
     },
     "execution_count": 18,
     "metadata": {},
     "output_type": "execute_result"
    }
   ],
   "source": [
    "df_COUNTY.head(1)"
   ]
  },
  {
   "cell_type": "markdown",
   "metadata": {},
   "source": [
    "<p>Now let's look at population change.</p>"
   ]
  },
  {
   "cell_type": "code",
   "execution_count": 19,
   "metadata": {
    "collapsed": true
   },
   "outputs": [],
   "source": [
    "df_COUNTY['POP_CHANGE'] = (df_COUNTY['POPESTIMATE2016'] - df_COUNTY['POPESTIMATE2010']) / df_COUNTY['POPESTIMATE2010']"
   ]
  },
  {
   "cell_type": "markdown",
   "metadata": {},
   "source": [
    "<p>And again, despite some questions about births as an indicator, let's add births per capita to this whole mix.</p>"
   ]
  },
  {
   "cell_type": "code",
   "execution_count": 20,
   "metadata": {
    "collapsed": true
   },
   "outputs": [],
   "source": [
    "df_COUNTY['BIRTHS_PER_CAPITA'] = df_COUNTY['BIRTHS2016']/df_COUNTY['POPESTIMATE2016']"
   ]
  },
  {
   "cell_type": "code",
   "execution_count": 21,
   "metadata": {},
   "outputs": [
    {
     "data": {
      "text/html": [
       "<div>\n",
       "<style>\n",
       "    .dataframe thead tr:only-child th {\n",
       "        text-align: right;\n",
       "    }\n",
       "\n",
       "    .dataframe thead th {\n",
       "        text-align: left;\n",
       "    }\n",
       "\n",
       "    .dataframe tbody tr th {\n",
       "        vertical-align: top;\n",
       "    }\n",
       "</style>\n",
       "<table border=\"1\" class=\"dataframe\">\n",
       "  <thead>\n",
       "    <tr style=\"text-align: right;\">\n",
       "      <th></th>\n",
       "      <th>SUMLEV</th>\n",
       "      <th>REGION</th>\n",
       "      <th>DIVISION</th>\n",
       "      <th>STATE</th>\n",
       "      <th>COUNTY</th>\n",
       "      <th>STNAME</th>\n",
       "      <th>CTYNAME</th>\n",
       "      <th>CODE</th>\n",
       "      <th>CENSUS2010POP</th>\n",
       "      <th>ESTIMATESBASE2010</th>\n",
       "      <th>...</th>\n",
       "      <th>RDOMESTICMIG2016</th>\n",
       "      <th>RNETMIG2011</th>\n",
       "      <th>RNETMIG2012</th>\n",
       "      <th>RNETMIG2013</th>\n",
       "      <th>RNETMIG2014</th>\n",
       "      <th>RNETMIG2015</th>\n",
       "      <th>RNETMIG2016</th>\n",
       "      <th>AVG_NETMIG</th>\n",
       "      <th>POP_CHANGE</th>\n",
       "      <th>BIRTHS_PER_CAPITA</th>\n",
       "    </tr>\n",
       "  </thead>\n",
       "  <tbody>\n",
       "    <tr>\n",
       "      <th>0</th>\n",
       "      <td>40</td>\n",
       "      <td>3</td>\n",
       "      <td>6</td>\n",
       "      <td>1</td>\n",
       "      <td>0</td>\n",
       "      <td>Alabama</td>\n",
       "      <td>Alabama</td>\n",
       "      <td>1Alabama</td>\n",
       "      <td>4779736</td>\n",
       "      <td>4780131</td>\n",
       "      <td>...</td>\n",
       "      <td>-0.177829</td>\n",
       "      <td>0.709411</td>\n",
       "      <td>1.062617</td>\n",
       "      <td>1.202226</td>\n",
       "      <td>1.065267</td>\n",
       "      <td>0.41167</td>\n",
       "      <td>0.797351</td>\n",
       "      <td>0.874757</td>\n",
       "      <td>0.016259</td>\n",
       "      <td>0.01204</td>\n",
       "    </tr>\n",
       "  </tbody>\n",
       "</table>\n",
       "<p>1 rows × 120 columns</p>\n",
       "</div>"
      ],
      "text/plain": [
       "   SUMLEV  REGION  DIVISION  STATE  COUNTY   STNAME  CTYNAME      CODE  \\\n",
       "0      40       3         6      1       0  Alabama  Alabama  1Alabama   \n",
       "\n",
       "   CENSUS2010POP  ESTIMATESBASE2010        ...          RDOMESTICMIG2016  \\\n",
       "0        4779736            4780131        ...                 -0.177829   \n",
       "\n",
       "   RNETMIG2011  RNETMIG2012  RNETMIG2013  RNETMIG2014  RNETMIG2015  \\\n",
       "0     0.709411     1.062617     1.202226     1.065267      0.41167   \n",
       "\n",
       "   RNETMIG2016  AVG_NETMIG  POP_CHANGE  BIRTHS_PER_CAPITA  \n",
       "0     0.797351    0.874757    0.016259            0.01204  \n",
       "\n",
       "[1 rows x 120 columns]"
      ]
     },
     "execution_count": 21,
     "metadata": {},
     "output_type": "execute_result"
    }
   ],
   "source": [
    "df_COUNTY.head(1)"
   ]
  },
  {
   "cell_type": "code",
   "execution_count": 22,
   "metadata": {
    "collapsed": true
   },
   "outputs": [],
   "source": [
    "df_COUNTY.to_csv(\"/Users/alexmahadevan/Desktop/RAISE A FAMILY DIRTY DATA WORK/COUNTY_DATA_W_ESTIMATES.csv\")"
   ]
  },
  {
   "cell_type": "markdown",
   "metadata": {},
   "source": [
    "<p>Hmmmm. Some very interesting counties ranking high there!</p>\n",
    "<p>Let's leave that, and look at some economic statistics</p>"
   ]
  },
  {
   "cell_type": "code",
   "execution_count": 23,
   "metadata": {
    "collapsed": true
   },
   "outputs": [],
   "source": [
    "df_COUNTY = df_COUNTY[df_COUNTY.COUNTY != 0]"
   ]
  },
  {
   "cell_type": "code",
   "execution_count": 25,
   "metadata": {
    "collapsed": true
   },
   "outputs": [],
   "source": [
    "df_COUNTY.to_csv(\"/Users/alexmahadevan/Desktop/RAISE A FAMILY DIRTY DATA WORK/COUNTY_DATA_W_ESTIMATES.csv\")"
   ]
  },
  {
   "cell_type": "markdown",
   "metadata": {},
   "source": [
    "### Local Economic Indicators\n",
    "<p>Data is courtesy of the [The U.S. Census Bureau](https://www.census.gov/data/tables/2016/demo/income-poverty/p60-256.html)."
   ]
  },
  {
   "cell_type": "code",
   "execution_count": 26,
   "metadata": {
    "collapsed": true
   },
   "outputs": [],
   "source": [
    "UNEMPLOYMENT = pd.read_csv(\"/Users/alexmahadevan/Desktop/Projects/Raise a Family/LOCAL_ECONOMICS.csv\")"
   ]
  },
  {
   "cell_type": "code",
   "execution_count": 27,
   "metadata": {},
   "outputs": [
    {
     "data": {
      "text/html": [
       "<div>\n",
       "<style>\n",
       "    .dataframe thead tr:only-child th {\n",
       "        text-align: right;\n",
       "    }\n",
       "\n",
       "    .dataframe thead th {\n",
       "        text-align: left;\n",
       "    }\n",
       "\n",
       "    .dataframe tbody tr th {\n",
       "        vertical-align: top;\n",
       "    }\n",
       "</style>\n",
       "<table border=\"1\" class=\"dataframe\">\n",
       "  <thead>\n",
       "    <tr style=\"text-align: right;\">\n",
       "      <th></th>\n",
       "      <th>CTYNAME</th>\n",
       "      <th>CODE</th>\n",
       "      <th>Area_name</th>\n",
       "      <th>Unemployment_rate_2016</th>\n",
       "      <th>Median_Household_Income_2015</th>\n",
       "      <th>Med_HH_Income_Percent_of_State_Total_2015</th>\n",
       "    </tr>\n",
       "  </thead>\n",
       "  <tbody>\n",
       "    <tr>\n",
       "      <th>0</th>\n",
       "      <td>Alabama</td>\n",
       "      <td>1Alabama</td>\n",
       "      <td>Alabama</td>\n",
       "      <td>6.0</td>\n",
       "      <td>44,833</td>\n",
       "      <td>100.0</td>\n",
       "    </tr>\n",
       "  </tbody>\n",
       "</table>\n",
       "</div>"
      ],
      "text/plain": [
       "   CTYNAME      CODE Area_name  Unemployment_rate_2016  \\\n",
       "0  Alabama  1Alabama   Alabama                     6.0   \n",
       "\n",
       "  Median_Household_Income_2015  Med_HH_Income_Percent_of_State_Total_2015  \n",
       "0                       44,833                                      100.0  "
      ]
     },
     "execution_count": 27,
     "metadata": {},
     "output_type": "execute_result"
    }
   ],
   "source": [
    "UNEMPLOYMENT.head(1)"
   ]
  },
  {
   "cell_type": "markdown",
   "metadata": {
    "collapsed": true
   },
   "source": [
    "<p>You'll probably notice a weird variable in there called CODE. (Actually, since you're smart enough to look at the methodology for this study you probably noticed back in the county population data.)</p>\n",
    "<p>I had to use some trickery to create a variable we could use to merge df_COUNTY and EMPLOYMENT. I did that by concatenating the state code number and the county name. I did this because there are tons of counties with the same name.</p>"
   ]
  },
  {
   "cell_type": "code",
   "execution_count": 28,
   "metadata": {},
   "outputs": [
    {
     "data": {
      "text/plain": [
       "0    1Alabama\n",
       "Name: CODE, dtype: object"
      ]
     },
     "execution_count": 28,
     "metadata": {},
     "output_type": "execute_result"
    }
   ],
   "source": [
    "UNEMPLOYMENT.CODE.head(1)"
   ]
  },
  {
   "cell_type": "markdown",
   "metadata": {},
   "source": [
    "<p>Now we just have to merge the two data frames, so we can work from the same place.</p> \n",
    "<p>This should give us a good snapshot of each county's economy, which we can use as a starting point for our analysis</p>"
   ]
  },
  {
   "cell_type": "code",
   "execution_count": 29,
   "metadata": {
    "collapsed": true
   },
   "outputs": [],
   "source": [
    "MERGED = pd.merge(df_COUNTY, UNEMPLOYMENT, on='CODE')"
   ]
  },
  {
   "cell_type": "code",
   "execution_count": 30,
   "metadata": {},
   "outputs": [
    {
     "data": {
      "text/html": [
       "<div>\n",
       "<style>\n",
       "    .dataframe thead tr:only-child th {\n",
       "        text-align: right;\n",
       "    }\n",
       "\n",
       "    .dataframe thead th {\n",
       "        text-align: left;\n",
       "    }\n",
       "\n",
       "    .dataframe tbody tr th {\n",
       "        vertical-align: top;\n",
       "    }\n",
       "</style>\n",
       "<table border=\"1\" class=\"dataframe\">\n",
       "  <thead>\n",
       "    <tr style=\"text-align: right;\">\n",
       "      <th></th>\n",
       "      <th>SUMLEV</th>\n",
       "      <th>REGION</th>\n",
       "      <th>DIVISION</th>\n",
       "      <th>STATE</th>\n",
       "      <th>COUNTY</th>\n",
       "      <th>STNAME</th>\n",
       "      <th>CTYNAME_x</th>\n",
       "      <th>CODE</th>\n",
       "      <th>CENSUS2010POP</th>\n",
       "      <th>ESTIMATESBASE2010</th>\n",
       "      <th>...</th>\n",
       "      <th>RNETMIG2015</th>\n",
       "      <th>RNETMIG2016</th>\n",
       "      <th>AVG_NETMIG</th>\n",
       "      <th>POP_CHANGE</th>\n",
       "      <th>BIRTHS_PER_CAPITA</th>\n",
       "      <th>CTYNAME_y</th>\n",
       "      <th>Area_name</th>\n",
       "      <th>Unemployment_rate_2016</th>\n",
       "      <th>Median_Household_Income_2015</th>\n",
       "      <th>Med_HH_Income_Percent_of_State_Total_2015</th>\n",
       "    </tr>\n",
       "  </thead>\n",
       "  <tbody>\n",
       "    <tr>\n",
       "      <th>0</th>\n",
       "      <td>50</td>\n",
       "      <td>3</td>\n",
       "      <td>6</td>\n",
       "      <td>1</td>\n",
       "      <td>1</td>\n",
       "      <td>Alabama</td>\n",
       "      <td>Autauga County</td>\n",
       "      <td>1Autauga County</td>\n",
       "      <td>54571</td>\n",
       "      <td>54571</td>\n",
       "      <td>...</td>\n",
       "      <td>-2.654256</td>\n",
       "      <td>4.255281</td>\n",
       "      <td>0.026241</td>\n",
       "      <td>0.012312</td>\n",
       "      <td>0.011387</td>\n",
       "      <td>Autauga County</td>\n",
       "      <td>Autauga County, AL</td>\n",
       "      <td>5.3</td>\n",
       "      <td>56,580</td>\n",
       "      <td>126.2</td>\n",
       "    </tr>\n",
       "    <tr>\n",
       "      <th>1</th>\n",
       "      <td>50</td>\n",
       "      <td>3</td>\n",
       "      <td>6</td>\n",
       "      <td>1</td>\n",
       "      <td>3</td>\n",
       "      <td>Alabama</td>\n",
       "      <td>Baldwin County</td>\n",
       "      <td>1Baldwin County</td>\n",
       "      <td>182265</td>\n",
       "      <td>182265</td>\n",
       "      <td>...</td>\n",
       "      <td>18.585398</td>\n",
       "      <td>20.807611</td>\n",
       "      <td>19.461493</td>\n",
       "      <td>0.138451</td>\n",
       "      <td>0.010903</td>\n",
       "      <td>Baldwin County</td>\n",
       "      <td>Baldwin County, AL</td>\n",
       "      <td>5.4</td>\n",
       "      <td>52,387</td>\n",
       "      <td>116.8</td>\n",
       "    </tr>\n",
       "    <tr>\n",
       "      <th>2</th>\n",
       "      <td>50</td>\n",
       "      <td>3</td>\n",
       "      <td>6</td>\n",
       "      <td>1</td>\n",
       "      <td>5</td>\n",
       "      <td>Alabama</td>\n",
       "      <td>Barbour County</td>\n",
       "      <td>1Barbour County</td>\n",
       "      <td>27457</td>\n",
       "      <td>27457</td>\n",
       "      <td>...</td>\n",
       "      <td>-16.819716</td>\n",
       "      <td>-9.686991</td>\n",
       "      <td>-7.845474</td>\n",
       "      <td>-0.050570</td>\n",
       "      <td>0.009744</td>\n",
       "      <td>Barbour County</td>\n",
       "      <td>Barbour County, AL</td>\n",
       "      <td>8.6</td>\n",
       "      <td>31,433</td>\n",
       "      <td>70.1</td>\n",
       "    </tr>\n",
       "    <tr>\n",
       "      <th>3</th>\n",
       "      <td>50</td>\n",
       "      <td>3</td>\n",
       "      <td>6</td>\n",
       "      <td>1</td>\n",
       "      <td>7</td>\n",
       "      <td>Alabama</td>\n",
       "      <td>Bibb County</td>\n",
       "      <td>1Bibb County</td>\n",
       "      <td>22915</td>\n",
       "      <td>22919</td>\n",
       "      <td>...</td>\n",
       "      <td>0.887469</td>\n",
       "      <td>2.300681</td>\n",
       "      <td>-1.863208</td>\n",
       "      <td>-0.009536</td>\n",
       "      <td>0.011748</td>\n",
       "      <td>Bibb County</td>\n",
       "      <td>Bibb County, AL</td>\n",
       "      <td>6.6</td>\n",
       "      <td>40,767</td>\n",
       "      <td>90.9</td>\n",
       "    </tr>\n",
       "    <tr>\n",
       "      <th>4</th>\n",
       "      <td>50</td>\n",
       "      <td>3</td>\n",
       "      <td>6</td>\n",
       "      <td>1</td>\n",
       "      <td>9</td>\n",
       "      <td>Alabama</td>\n",
       "      <td>Blount County</td>\n",
       "      <td>1Blount County</td>\n",
       "      <td>57322</td>\n",
       "      <td>57324</td>\n",
       "      <td>...</td>\n",
       "      <td>-0.780593</td>\n",
       "      <td>-0.468019</td>\n",
       "      <td>-0.617284</td>\n",
       "      <td>0.005717</td>\n",
       "      <td>0.011490</td>\n",
       "      <td>Blount County</td>\n",
       "      <td>Blount County, AL</td>\n",
       "      <td>5.5</td>\n",
       "      <td>50,487</td>\n",
       "      <td>112.6</td>\n",
       "    </tr>\n",
       "  </tbody>\n",
       "</table>\n",
       "<p>5 rows × 125 columns</p>\n",
       "</div>"
      ],
      "text/plain": [
       "   SUMLEV  REGION  DIVISION  STATE  COUNTY   STNAME       CTYNAME_x  \\\n",
       "0      50       3         6      1       1  Alabama  Autauga County   \n",
       "1      50       3         6      1       3  Alabama  Baldwin County   \n",
       "2      50       3         6      1       5  Alabama  Barbour County   \n",
       "3      50       3         6      1       7  Alabama     Bibb County   \n",
       "4      50       3         6      1       9  Alabama   Blount County   \n",
       "\n",
       "              CODE  CENSUS2010POP  ESTIMATESBASE2010  \\\n",
       "0  1Autauga County          54571              54571   \n",
       "1  1Baldwin County         182265             182265   \n",
       "2  1Barbour County          27457              27457   \n",
       "3     1Bibb County          22915              22919   \n",
       "4   1Blount County          57322              57324   \n",
       "\n",
       "                     ...                      RNETMIG2015  RNETMIG2016  \\\n",
       "0                    ...                        -2.654256     4.255281   \n",
       "1                    ...                        18.585398    20.807611   \n",
       "2                    ...                       -16.819716    -9.686991   \n",
       "3                    ...                         0.887469     2.300681   \n",
       "4                    ...                        -0.780593    -0.468019   \n",
       "\n",
       "   AVG_NETMIG  POP_CHANGE  BIRTHS_PER_CAPITA       CTYNAME_y  \\\n",
       "0    0.026241    0.012312           0.011387  Autauga County   \n",
       "1   19.461493    0.138451           0.010903  Baldwin County   \n",
       "2   -7.845474   -0.050570           0.009744  Barbour County   \n",
       "3   -1.863208   -0.009536           0.011748     Bibb County   \n",
       "4   -0.617284    0.005717           0.011490   Blount County   \n",
       "\n",
       "            Area_name  Unemployment_rate_2016  Median_Household_Income_2015  \\\n",
       "0  Autauga County, AL                     5.3                        56,580   \n",
       "1  Baldwin County, AL                     5.4                        52,387   \n",
       "2  Barbour County, AL                     8.6                        31,433   \n",
       "3     Bibb County, AL                     6.6                        40,767   \n",
       "4   Blount County, AL                     5.5                        50,487   \n",
       "\n",
       "   Med_HH_Income_Percent_of_State_Total_2015  \n",
       "0                                      126.2  \n",
       "1                                      116.8  \n",
       "2                                       70.1  \n",
       "3                                       90.9  \n",
       "4                                      112.6  \n",
       "\n",
       "[5 rows x 125 columns]"
      ]
     },
     "execution_count": 30,
     "metadata": {},
     "output_type": "execute_result"
    }
   ],
   "source": [
    "MERGED.head()"
   ]
  },
  {
   "cell_type": "code",
   "execution_count": 36,
   "metadata": {},
   "outputs": [
    {
     "name": "stdout",
     "output_type": "stream",
     "text": [
      "<class 'pandas.core.frame.DataFrame'>\n",
      "Int64Index: 3193 entries, 0 to 3192\n",
      "Columns: 125 entries, SUMLEV to Med_HH_Income_Percent_of_State_Total_2015\n",
      "dtypes: float64(41), int64(78), object(6)\n",
      "memory usage: 3.1+ MB\n"
     ]
    }
   ],
   "source": [
    "MERGED.info()"
   ]
  },
  {
   "cell_type": "markdown",
   "metadata": {},
   "source": [
    "### Offline work\n",
    "\n",
    "<p>I took what he had so far from counties and took it into Excel to clean it all up. Using ACS data from the Census Bureau, I also added </p>"
   ]
  },
  {
   "cell_type": "markdown",
   "metadata": {
    "collapsed": true
   },
   "source": [
    "### Cities (ALL OF THEM!!!)\n",
    "\n",
    "<p>Now the problem we're going to deal with, is that counties are not cities.</p>\n",
    "<p>So, I've assembled a list of (what I believe is) every city in the U.S. Now we have to figure out how to match the data.</p>\n",
    "<p>Let's load this sucker in.</p>"
   ]
  },
  {
   "cell_type": "code",
   "execution_count": null,
   "metadata": {},
   "outputs": [],
   "source": []
  },
  {
   "cell_type": "code",
   "execution_count": null,
   "metadata": {
    "collapsed": true
   },
   "outputs": [],
   "source": []
  }
 ],
 "metadata": {
  "kernelspec": {
   "display_name": "Python 2",
   "language": "python",
   "name": "python2"
  },
  "language_info": {
   "codemirror_mode": {
    "name": "ipython",
    "version": 2
   },
   "file_extension": ".py",
   "mimetype": "text/x-python",
   "name": "python",
   "nbconvert_exporter": "python",
   "pygments_lexer": "ipython2",
   "version": "2.7.10"
  }
 },
 "nbformat": 4,
 "nbformat_minor": 2
}
