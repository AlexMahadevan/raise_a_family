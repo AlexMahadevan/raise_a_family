{
 "cells": [
  {
   "cell_type": "code",
   "execution_count": 4,
   "metadata": {
    "collapsed": true
   },
   "outputs": [],
   "source": [
    "import pandas as pd"
   ]
  },
  {
   "cell_type": "markdown",
   "metadata": {},
   "source": [
    "<p>We want create two arrays: children_2010 and children_2015. The counties with a higher growth rate of children with families are probably desirable for people to start a family.</p>\n",
    "<p>Then we'll find the percent change in the variable between the two years, and plug that into our master table to start our affordable places to start a family analysis.</p>\n",
    "<p>Let's start by loading in the two social characteristics tables for the years 2010 and 2015 courtesy of the [U.S. Census Bureau](\"https://www.census.gov/acs/www/data/data-tables-and-tools/data-profiles/2015/\")."
   ]
  },
  {
   "cell_type": "code",
   "execution_count": 5,
   "metadata": {},
   "outputs": [],
   "source": [
    "children_2015 = pd.read_csv(\"/Users/alexmahadevan/Desktop/Projects/Data/county data/social situation/ACS_15_5YR_DP02_with_ann.csv\")"
   ]
  },
  {
   "cell_type": "code",
   "execution_count": 8,
   "metadata": {},
   "outputs": [],
   "source": [
    "children_2010 = pd.read_csv(\"/Users/alexmahadevan/Desktop/ACS_10_5YR_DP02/ACS_10_5YR_DP02_with_ann.csv\")"
   ]
  },
  {
   "cell_type": "markdown",
   "metadata": {},
   "source": [
    "<p>Now let's single out the column the percent of families with kids under 18.</p>"
   ]
  },
  {
   "cell_type": "code",
   "execution_count": 13,
   "metadata": {},
   "outputs": [],
   "source": [
    "kids_2015 = children_2015['HC03_VC07']"
   ]
  },
  {
   "cell_type": "code",
   "execution_count": 14,
   "metadata": {},
   "outputs": [
    {
     "data": {
      "text/plain": [
       "0    Percent; HOUSEHOLDS BY TYPE - Total households...\n",
       "1                                                 23.1\n",
       "2                                                 17.8\n",
       "3                                                 13.5\n",
       "4                                                 19.1\n",
       "Name: HC03_VC07, dtype: object"
      ]
     },
     "execution_count": 14,
     "metadata": {},
     "output_type": "execute_result"
    }
   ],
   "source": [
    "kids_2015.head(5)"
   ]
  },
  {
   "cell_type": "code",
   "execution_count": 15,
   "metadata": {
    "collapsed": true
   },
   "outputs": [],
   "source": [
    "county_2015 = children_2015['GEO.display-label']"
   ]
  },
  {
   "cell_type": "code",
   "execution_count": 18,
   "metadata": {},
   "outputs": [],
   "source": [
    "kids_2010 = children_2010['HC03_VC08']"
   ]
  },
  {
   "cell_type": "code",
   "execution_count": 19,
   "metadata": {
    "collapsed": true
   },
   "outputs": [],
   "source": [
    "county_2010 = children_2010['GEO.display-label']"
   ]
  },
  {
   "cell_type": "markdown",
   "metadata": {},
   "source": [
    "<p>Now I have four arrays: the counties availale in both years, along with the married families with children for both years.</p>"
   ]
  },
  {
   "cell_type": "code",
   "execution_count": 31,
   "metadata": {},
   "outputs": [
    {
     "data": {
      "text/plain": [
       "count                         3143\n",
       "unique                        3143\n",
       "top       Washakie County, Wyoming\n",
       "freq                             1\n",
       "Name: GEO.display-label, dtype: object"
      ]
     },
     "execution_count": 31,
     "metadata": {},
     "output_type": "execute_result"
    }
   ],
   "source": [
    "county_2010.describe()"
   ]
  },
  {
   "cell_type": "code",
   "execution_count": 32,
   "metadata": {},
   "outputs": [
    {
     "data": {
      "text/plain": [
       "count    3143.000000\n",
       "mean       19.935317\n",
       "std         4.796035\n",
       "min         0.000000\n",
       "25%        17.000000\n",
       "50%        19.600000\n",
       "75%        22.300000\n",
       "max        42.100000\n",
       "Name: HC03_VC08, dtype: float64"
      ]
     },
     "execution_count": 32,
     "metadata": {},
     "output_type": "execute_result"
    }
   ],
   "source": [
    "kids_2010.describe()"
   ]
  },
  {
   "cell_type": "code",
   "execution_count": 43,
   "metadata": {
    "collapsed": true
   },
   "outputs": [],
   "source": [
    "kids_2015.to_csv(\"/Users/alexmahadevan/Desktop/ACS_10_5YR_DP02/kids_2015.csv\")"
   ]
  },
  {
   "cell_type": "code",
   "execution_count": 44,
   "metadata": {
    "collapsed": true
   },
   "outputs": [],
   "source": [
    "kids_2010.to_csv(\"/Users/alexmahadevan/Desktop/ACS_10_5YR_DP02/kids_2010.csv\")"
   ]
  },
  {
   "cell_type": "code",
   "execution_count": 45,
   "metadata": {
    "collapsed": true
   },
   "outputs": [],
   "source": [
    "county_2015.to_csv(\"/Users/alexmahadevan/Desktop/ACS_10_5YR_DP02/county_2015.csv\")"
   ]
  },
  {
   "cell_type": "code",
   "execution_count": 42,
   "metadata": {
    "collapsed": true
   },
   "outputs": [],
   "source": [
    "county_2010.to_csv(\"/Users/alexmahadevan/Desktop/ACS_10_5YR_DP02/county_2010.csv\")"
   ]
  },
  {
   "cell_type": "code",
   "execution_count": null,
   "metadata": {
    "collapsed": true
   },
   "outputs": [],
   "source": []
  },
  {
   "cell_type": "code",
   "execution_count": null,
   "metadata": {},
   "outputs": [],
   "source": []
  },
  {
   "cell_type": "code",
   "execution_count": null,
   "metadata": {
    "collapsed": true
   },
   "outputs": [],
   "source": []
  }
 ],
 "metadata": {
  "kernelspec": {
   "display_name": "Python 2",
   "language": "python",
   "name": "python2"
  },
  "language_info": {
   "codemirror_mode": {
    "name": "ipython",
    "version": 2
   },
   "file_extension": ".py",
   "mimetype": "text/x-python",
   "name": "python",
   "nbconvert_exporter": "python",
   "pygments_lexer": "ipython2",
   "version": "2.7.10"
  }
 },
 "nbformat": 4,
 "nbformat_minor": 2
}
