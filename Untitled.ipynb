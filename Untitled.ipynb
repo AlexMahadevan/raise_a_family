{
 "cells": [
  {
   "cell_type": "code",
   "execution_count": 1,
   "metadata": {
    "collapsed": true
   },
   "outputs": [],
   "source": [
    "import pandas as pd"
   ]
  },
  {
   "cell_type": "code",
   "execution_count": 2,
   "metadata": {
    "collapsed": true
   },
   "outputs": [],
   "source": [
    "df = pd.read_csv(\"/Users/alexmahadevan/Code/raise_a_family/INITIAL_RAISE_A_FAMILY_DF.csv\")"
   ]
  },
  {
   "cell_type": "code",
   "execution_count": 3,
   "metadata": {},
   "outputs": [
    {
     "name": "stdout",
     "output_type": "stream",
     "text": [
      "<class 'pandas.core.frame.DataFrame'>\n",
      "RangeIndex: 3221 entries, 0 to 3220\n",
      "Data columns (total 25 columns):\n",
      "Unnamed: 0                                   3142 non-null float64\n",
      "SUMLEV                                       3142 non-null float64\n",
      "REGION                                       3142 non-null float64\n",
      "DIVISION                                     3142 non-null float64\n",
      "STATE                                        3142 non-null float64\n",
      "COUNTY                                       3142 non-null float64\n",
      "STNAME                                       3142 non-null object\n",
      "CTY                                          3142 non-null object\n",
      "Unemployment_rate_2016                       3142 non-null float64\n",
      "Med_HH_Income_Percent_of_State_Total_2015    3142 non-null float64\n",
      "GEO.display-label                            3142 non-null object\n",
      "POPESTIMATE2016                              3142 non-null float64\n",
      "AVG_NETMIG                                   3142 non-null float64\n",
      "POP_CHANGE                                   3142 non-null float64\n",
      "BIRTHS_PER_CAPITA                            3142 non-null float64\n",
      "MEDIAN_HOUSEHOLD_INCOME                      3142 non-null object\n",
      "PERCENT_W_HEALTH_INSURANCE                   3142 non-null float64\n",
      "PERCENTAGE_IN_POVERTY                        3142 non-null float64\n",
      "PERCENT_WITH_KIDS                            3142 non-null float64\n",
      "BACHELORS_DEGREE                             3142 non-null float64\n",
      "MEDIAN_MORTAGE_PAYMENTS                      3142 non-null object\n",
      "MEDIAN_RENT_PAYMENT                          3142 non-null object\n",
      "2010_FAM_KIDS                                3142 non-null float64\n",
      "2015_FAM_KIDS                                3142 non-null float64\n",
      "2010_2010_CHANGE_IN_FAM_WITH_KIDS            3142 non-null object\n",
      "dtypes: float64(18), object(7)\n",
      "memory usage: 629.2+ KB\n"
     ]
    }
   ],
   "source": [
    "df.info()"
   ]
  },
  {
   "cell_type": "code",
   "execution_count": null,
   "metadata": {
    "collapsed": true
   },
   "outputs": [],
   "source": [
    "df['zPOPESTIMATE2016'] = df['zPOPESTIMATE2016']"
   ]
  }
 ],
 "metadata": {
  "kernelspec": {
   "display_name": "Python 2",
   "language": "python",
   "name": "python2"
  },
  "language_info": {
   "codemirror_mode": {
    "name": "ipython",
    "version": 2
   },
   "file_extension": ".py",
   "mimetype": "text/x-python",
   "name": "python",
   "nbconvert_exporter": "python",
   "pygments_lexer": "ipython2",
   "version": "2.7.10"
  }
 },
 "nbformat": 4,
 "nbformat_minor": 2
}
