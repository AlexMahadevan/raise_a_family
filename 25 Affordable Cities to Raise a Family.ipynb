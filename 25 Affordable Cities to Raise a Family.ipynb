{
 "cells": [
  {
   "cell_type": "markdown",
   "metadata": {},
   "source": [
    "# Top 25 Most Affordable Places to Raise a Family\n",
    "\n",
    "Analysis by Alex Mahadevan  \n",
    "Data journalist, [The Penny Hoarder](\"https://www.thepennyhoarder.com\")"
   ]
  },
  {
   "cell_type": "markdown",
   "metadata": {},
   "source": [
    "### Data Cleaning"
   ]
  },
  {
   "cell_type": "markdown",
   "metadata": {},
   "source": [
    "<p>We begin by importing the Pandas data analysis library.</p> "
   ]
  },
  {
   "cell_type": "code",
   "execution_count": 1,
   "metadata": {
    "collapsed": true
   },
   "outputs": [],
   "source": [
    "import pandas as pd"
   ]
  },
  {
   "cell_type": "markdown",
   "metadata": {},
   "source": [
    "<p>We used a combination of PANDAS and Excel to clean and merge all of the data herein. Sources include the [U.S. Census Bureau's American Community Survey](https://www.census.gov/acs/www/data/data-tables-and-tools/data-profiles/2015/), [University of Michigan's Institute for Social Research](http://www.icpsr.umich.edu/icpsrweb/NACJD/studies/35019), [The U.S. Bureau of Labor Statistics](https://data.bls.gov/map/MapToolServlet?survey=la&map=county&seasonal=u) and [The Robert Wood Johnson Foundation](http://www.countyhealthrankings.org/reports/2017-county-health-rankings-key-findings-report).\n",
    "<p>The data cleaning process was daunting, dirty and rigorous, so we omitted it from the final analysis.</p>"
   ]
  },
  {
   "cell_type": "markdown",
   "metadata": {},
   "source": [
    "<p>Now, we'll read in the initial dataset we'll be working from.</p>\n",
    "<p>Notes:</p>\n",
    "* The crime data for some smaller counties may be missing or underreported.\n",
    "* We used counties instead of metropolitan statistical area or city data to have the most robust analysis with the widest number of variables, and to capture suburbs.\n",
    "* Some of the data points were not available for Alaska and Hawaii. That's OK, since those states are pretty expensive to live in anyway (they'll likely be thrown out of the analysis)."
   ]
  },
  {
   "cell_type": "code",
   "execution_count": 2,
   "metadata": {
    "collapsed": true
   },
   "outputs": [],
   "source": [
    "df = pd.read_csv(\"/Users/alexmahadevan/Code/raise_a_family/county data.csv\" , index_col=0)"
   ]
  },
  {
   "cell_type": "markdown",
   "metadata": {},
   "source": [
    "<p>Here is a list of the variables we are considering.</p>"
   ]
  },
  {
   "cell_type": "code",
   "execution_count": 3,
   "metadata": {
    "scrolled": true
   },
   "outputs": [
    {
     "name": "stdout",
     "output_type": "stream",
     "text": [
      "<class 'pandas.core.frame.DataFrame'>\n",
      "Float64Index: 3220 entries, 1.0 to nan\n",
      "Data columns (total 40 columns):\n",
      "SUMLEV                        3141 non-null float64\n",
      "REGION                        3141 non-null float64\n",
      "DIVISION                      3141 non-null float64\n",
      "STATE                         3141 non-null float64\n",
      "COUNTY                        3141 non-null float64\n",
      "STNAME                        3141 non-null object\n",
      "CTY                           3141 non-null object\n",
      "HEALTHCARE_COST               3134 non-null float64\n",
      "PERCENT_FOOD_INSECURE         3135 non-null float64\n",
      "CHILD_MORTALITY_RATE          1943 non-null float64\n",
      "MENTAL_DISTRESS               3135 non-null float64\n",
      "CHILDREN_UNINSURED            3135 non-null float64\n",
      "DISCONNECTED_YOUTH            2046 non-null float64\n",
      "DAILY_POLLUTION               3108 non-null float64\n",
      "WATER_VIOLATION               3077 non-null float64\n",
      "HOUSING_PROBLEMS              3135 non-null float64\n",
      "POPESTIMATE2016               3141 non-null float64\n",
      "AVG_NETMIG                    3141 non-null float64\n",
      "POP_CHANGE                    3141 non-null float64\n",
      "BIRTHS_PER_CAPITA             3141 non-null float64\n",
      "MEDIAN_HOUSEHOLD_INCOME       3141 non-null float64\n",
      "PERCENT_W_HEALTH_INSURANCE    3141 non-null float64\n",
      "PERCENTAGE_IN_POVERTY         3141 non-null float64\n",
      "PERCENT_WITH_KIDS             3141 non-null float64\n",
      "BACHELORS_DEGREE              3141 non-null float64\n",
      "MEDIAN_MORTAGE_PAYMENTS       3141 non-null float64\n",
      "MEDIAN_RENT_PAYMENT           3141 non-null float64\n",
      "2010_FAM_KIDS                 3141 non-null float64\n",
      "2015_FAM_KIDS                 3141 non-null float64\n",
      "CHANGE_IN_FAM_WITH_KIDS       3141 non-null float64\n",
      "INCOME_AS_PERCENT_OF_STATE    3141 non-null float64\n",
      "UNEMPLOYMENT                  3141 non-null float64\n",
      "MORTGAGE_INCOME_RATIO         3141 non-null float64\n",
      "RENT_INCOME_RATIO             3141 non-null float64\n",
      "HEALTHCARE_INCOME_RATIO       3141 non-null float64\n",
      "DOCTORS                       3000 non-null float64\n",
      "EXERCISE_ACCESS               3062 non-null float64\n",
      "FOOD_ENVIRONMENT_INDEX        3135 non-null float64\n",
      "CIVIC_ASSOCIATIONS            3135 non-null float64\n",
      "CRIME_RATE                    2966 non-null float64\n",
      "dtypes: float64(38), object(2)\n",
      "memory usage: 1.0+ MB\n"
     ]
    }
   ],
   "source": [
    "df.info()"
   ]
  },
  {
   "cell_type": "markdown",
   "metadata": {},
   "source": [
    "<p>As you can see, for most variables, we have more than 3,100 counties to consider.</p>\n",
    "<p>Since most people prefer to live where other people are living (and not in an igloo in Yakutat, Alaska), let's cull this list to only the counties with more population than the median.</p>\n",
    "<p>First let's find the average.</p>"
   ]
  },
  {
   "cell_type": "code",
   "execution_count": 4,
   "metadata": {},
   "outputs": [
    {
     "data": {
      "text/plain": [
       "102874.06080865966"
      ]
     },
     "execution_count": 4,
     "metadata": {},
     "output_type": "execute_result"
    }
   ],
   "source": [
    "df.POPESTIMATE2016.mean()"
   ]
  },
  {
   "cell_type": "markdown",
   "metadata": {},
   "source": [
    "<p>As you can see, the average population of a U.S. county as of 2016 was 102,874 (plus one twentieth of a person).</p>\n",
    "<p>Let's drop the counties with a population less than that amount.</p>"
   ]
  },
  {
   "cell_type": "code",
   "execution_count": 5,
   "metadata": {
    "collapsed": true
   },
   "outputs": [],
   "source": [
    "df = df[df.POPESTIMATE2016 > 102874.06080865966]"
   ]
  },
  {
   "cell_type": "code",
   "execution_count": 6,
   "metadata": {},
   "outputs": [
    {
     "data": {
      "text/plain": [
       "count    584.000000\n",
       "mean      90.041096\n",
       "std      104.140746\n",
       "min        1.000000\n",
       "25%       25.000000\n",
       "50%       67.000000\n",
       "75%      113.000000\n",
       "max      810.000000\n",
       "Name: COUNTY, dtype: float64"
      ]
     },
     "execution_count": 6,
     "metadata": {},
     "output_type": "execute_result"
    }
   ],
   "source": [
    "df.COUNTY.describe()"
   ]
  },
  {
   "cell_type": "markdown",
   "metadata": {},
   "source": [
    "<p>Now I'm going to tweak PANDAS so it doesn't revert every number to its scientific format</p>"
   ]
  },
  {
   "cell_type": "code",
   "execution_count": 7,
   "metadata": {
    "collapsed": true
   },
   "outputs": [],
   "source": [
    "pd.set_option('display.float_format', lambda x: '%.3f' % x)"
   ]
  },
  {
   "cell_type": "markdown",
   "metadata": {},
   "source": [
    "### Normalizing Data"
   ]
  },
  {
   "cell_type": "markdown",
   "metadata": {},
   "source": [
    "<p>Now let's start with the initial Z-scores. Here's the formula we'll use to normalize all the data so we can compare apples to apples: z = (x – μ) / σ.</p>"
   ]
  },
  {
   "cell_type": "code",
   "execution_count": 8,
   "metadata": {
    "collapsed": true
   },
   "outputs": [],
   "source": [
    "df['zFAMKIDSCHANGE'] = (df.CHANGE_IN_FAM_WITH_KIDS - df.CHANGE_IN_FAM_WITH_KIDS.mean())/ df.CHANGE_IN_FAM_WITH_KIDS.std()"
   ]
  },
  {
   "cell_type": "code",
   "execution_count": 9,
   "metadata": {
    "collapsed": true
   },
   "outputs": [],
   "source": [
    "df['zPERCENT_WITH_KIDS'] = (df.PERCENT_WITH_KIDS - df.PERCENT_WITH_KIDS.mean())/ df.PERCENT_WITH_KIDS.std()"
   ]
  },
  {
   "cell_type": "code",
   "execution_count": 10,
   "metadata": {
    "collapsed": true
   },
   "outputs": [],
   "source": [
    "df['zBIRTHS_PER_CAPITA'] = (df.BIRTHS_PER_CAPITA - df.BIRTHS_PER_CAPITA.mean())/ df.BIRTHS_PER_CAPITA.std()"
   ]
  },
  {
   "cell_type": "code",
   "execution_count": 11,
   "metadata": {
    "collapsed": true
   },
   "outputs": [],
   "source": [
    "df['zAVG_NETMIG'] = (df.AVG_NETMIG - df.AVG_NETMIG.mean())/ df.AVG_NETMIG.std()"
   ]
  },
  {
   "cell_type": "code",
   "execution_count": 12,
   "metadata": {
    "collapsed": true
   },
   "outputs": [],
   "source": [
    "df['zPOP_CHANGE'] = (df.POP_CHANGE - df.POP_CHANGE.mean())/ df.POP_CHANGE.std()"
   ]
  },
  {
   "cell_type": "code",
   "execution_count": 13,
   "metadata": {
    "collapsed": true
   },
   "outputs": [],
   "source": [
    "df['zINCOME_AS_PERCENT_OF_STATE'] = (df.INCOME_AS_PERCENT_OF_STATE - df.INCOME_AS_PERCENT_OF_STATE.mean())/ df.INCOME_AS_PERCENT_OF_STATE.std()"
   ]
  },
  {
   "cell_type": "code",
   "execution_count": 14,
   "metadata": {
    "collapsed": true
   },
   "outputs": [],
   "source": [
    "df['zPERCENTAGE_IN_POVERTY'] = -1*((df.PERCENTAGE_IN_POVERTY - df.PERCENTAGE_IN_POVERTY.mean())/ df.PERCENTAGE_IN_POVERTY.std())"
   ]
  },
  {
   "cell_type": "code",
   "execution_count": 15,
   "metadata": {
    "collapsed": true
   },
   "outputs": [],
   "source": [
    "df['zPERCENT_W_HEALTH_INSURANCE'] = (df.PERCENT_W_HEALTH_INSURANCE - df.PERCENT_W_HEALTH_INSURANCE.mean())/ df.PERCENT_W_HEALTH_INSURANCE.std()"
   ]
  },
  {
   "cell_type": "code",
   "execution_count": 16,
   "metadata": {
    "collapsed": true
   },
   "outputs": [],
   "source": [
    "df['zUNEMPLOYMENT'] = -1*((df.UNEMPLOYMENT - df.UNEMPLOYMENT.mean())/ df.UNEMPLOYMENT.std())"
   ]
  },
  {
   "cell_type": "code",
   "execution_count": 17,
   "metadata": {
    "collapsed": true
   },
   "outputs": [],
   "source": [
    "df['zBACHELORS_DEGREE'] = (df.BACHELORS_DEGREE - df.BACHELORS_DEGREE.mean())/ df.BACHELORS_DEGREE.std()"
   ]
  },
  {
   "cell_type": "code",
   "execution_count": 18,
   "metadata": {
    "collapsed": true
   },
   "outputs": [],
   "source": [
    "df['zMORTGAGE_INCOME_RATIO'] = (df.MORTGAGE_INCOME_RATIO - df.MORTGAGE_INCOME_RATIO.mean())/ df.MORTGAGE_INCOME_RATIO.std()"
   ]
  },
  {
   "cell_type": "code",
   "execution_count": 19,
   "metadata": {
    "collapsed": true
   },
   "outputs": [],
   "source": [
    "df['zRENT_INCOME_RATIO'] = (df.RENT_INCOME_RATIO - df.RENT_INCOME_RATIO.mean())/ df.RENT_INCOME_RATIO.std()"
   ]
  },
  {
   "cell_type": "code",
   "execution_count": 20,
   "metadata": {
    "collapsed": true
   },
   "outputs": [],
   "source": [
    "df['zHEALTHCARE_INCOME_RATIO'] = (df.HEALTHCARE_INCOME_RATIO - df.HEALTHCARE_INCOME_RATIO.mean())/ df.HEALTHCARE_INCOME_RATIO.std()"
   ]
  },
  {
   "cell_type": "code",
   "execution_count": 21,
   "metadata": {
    "collapsed": true
   },
   "outputs": [],
   "source": [
    "df['zDOCTORS'] = (df.DOCTORS - df.DOCTORS.mean())/ df.DOCTORS.std()"
   ]
  },
  {
   "cell_type": "code",
   "execution_count": 22,
   "metadata": {
    "collapsed": true
   },
   "outputs": [],
   "source": [
    "df['zEXERCISE_ACCESS'] = (df.EXERCISE_ACCESS - df.EXERCISE_ACCESS.mean())/ df.EXERCISE_ACCESS.std()"
   ]
  },
  {
   "cell_type": "code",
   "execution_count": 23,
   "metadata": {
    "collapsed": true
   },
   "outputs": [],
   "source": [
    "df['zFOOD_ENVIRONMENT_INDEX'] = (df.FOOD_ENVIRONMENT_INDEX - df.FOOD_ENVIRONMENT_INDEX.mean())/ df.FOOD_ENVIRONMENT_INDEX.std()"
   ]
  },
  {
   "cell_type": "code",
   "execution_count": 24,
   "metadata": {
    "collapsed": true
   },
   "outputs": [],
   "source": [
    "df['zCIVIC_ASSOCIATIONS'] = (df.CIVIC_ASSOCIATIONS - df.CIVIC_ASSOCIATIONS.mean())/ df.CIVIC_ASSOCIATIONS.std()"
   ]
  },
  {
   "cell_type": "code",
   "execution_count": 25,
   "metadata": {
    "collapsed": true
   },
   "outputs": [],
   "source": [
    "df['zCRIME_RATE'] = -1*((df.CRIME_RATE - df.CRIME_RATE.mean())/ df.CRIME_RATE.std())"
   ]
  },
  {
   "cell_type": "code",
   "execution_count": 26,
   "metadata": {
    "collapsed": true
   },
   "outputs": [],
   "source": [
    "df['zDAILY_POLLUTION'] = -1*((df.DAILY_POLLUTION - df.DAILY_POLLUTION.mean())/ df.DAILY_POLLUTION.std())"
   ]
  },
  {
   "cell_type": "code",
   "execution_count": 27,
   "metadata": {
    "collapsed": true
   },
   "outputs": [],
   "source": [
    "df['zWATER_VIOLATION'] = (df.WATER_VIOLATION - df.WATER_VIOLATION.mean())/ df.WATER_VIOLATION.std()"
   ]
  },
  {
   "cell_type": "code",
   "execution_count": 28,
   "metadata": {
    "collapsed": true
   },
   "outputs": [],
   "source": [
    "df['zCHILD_MORTALITY_RATE'] = -1*((df.CHILD_MORTALITY_RATE - df.CHILD_MORTALITY_RATE.mean())/ df.CHILD_MORTALITY_RATE.std())"
   ]
  },
  {
   "cell_type": "code",
   "execution_count": 29,
   "metadata": {
    "collapsed": true
   },
   "outputs": [],
   "source": [
    "df['zCHILDREN_UNINSURED'] = -1*((df.CHILDREN_UNINSURED - df.CHILDREN_UNINSURED.mean())/ df.CHILDREN_UNINSURED.std())"
   ]
  },
  {
   "cell_type": "code",
   "execution_count": 30,
   "metadata": {
    "collapsed": true
   },
   "outputs": [],
   "source": [
    "df['zDISCONNECTED_YOUTH'] = -1*((df.DISCONNECTED_YOUTH - df.DISCONNECTED_YOUTH.mean())/ df.DISCONNECTED_YOUTH.std())"
   ]
  },
  {
   "cell_type": "code",
   "execution_count": 31,
   "metadata": {
    "collapsed": true
   },
   "outputs": [],
   "source": [
    "df['zHOUSING_PROBLEMS'] = -1*((df.HOUSING_PROBLEMS - df.HOUSING_PROBLEMS.mean())/ df.HOUSING_PROBLEMS.std())"
   ]
  },
  {
   "cell_type": "markdown",
   "metadata": {},
   "source": [
    "### Ranking Counties\n",
    "<p>Now that we have normalized scores for all of our 24 of our variables. You'll notice, we multiplied some of those by -1, because families want less pollution, crime, etc.</p>"
   ]
  },
  {
   "cell_type": "code",
   "execution_count": 32,
   "metadata": {
    "collapsed": true
   },
   "outputs": [],
   "source": [
    "df['zSCORE_TOTAL'] = (df['zPERCENT_WITH_KIDS'] + df['zBIRTHS_PER_CAPITA'] + df['zFAMKIDSCHANGE'] + df['zAVG_NETMIG'] + df['zPOP_CHANGE']  + df['zINCOME_AS_PERCENT_OF_STATE'] + df['zPERCENTAGE_IN_POVERTY'] + df['zPERCENT_W_HEALTH_INSURANCE'] + df['zUNEMPLOYMENT'] + df['zBACHELORS_DEGREE'] + df['zMORTGAGE_INCOME_RATIO'] + df['zRENT_INCOME_RATIO'] + df['zHEALTHCARE_INCOME_RATIO'] + df['zDOCTORS'] + df['zEXERCISE_ACCESS'] + df['zFOOD_ENVIRONMENT_INDEX'] + df['zCIVIC_ASSOCIATIONS'] + df['zCRIME_RATE'] + df['zDAILY_POLLUTION'] + df['zWATER_VIOLATION'] + df['zCHILD_MORTALITY_RATE'] + df['zCHILDREN_UNINSURED'] + df['zDISCONNECTED_YOUTH'] + df['zHOUSING_PROBLEMS'])/24"
   ]
  },
  {
   "cell_type": "code",
   "execution_count": 33,
   "metadata": {
    "collapsed": true
   },
   "outputs": [],
   "source": [
    "df_sorted = df.sort_values('zSCORE_TOTAL', ascending=False)"
   ]
  },
  {
   "cell_type": "code",
   "execution_count": 34,
   "metadata": {
    "scrolled": true
   },
   "outputs": [
    {
     "data": {
      "text/html": [
       "<div>\n",
       "<style>\n",
       "    .dataframe thead tr:only-child th {\n",
       "        text-align: right;\n",
       "    }\n",
       "\n",
       "    .dataframe thead th {\n",
       "        text-align: left;\n",
       "    }\n",
       "\n",
       "    .dataframe tbody tr th {\n",
       "        vertical-align: top;\n",
       "    }\n",
       "</style>\n",
       "<table border=\"1\" class=\"dataframe\">\n",
       "  <thead>\n",
       "    <tr style=\"text-align: right;\">\n",
       "      <th></th>\n",
       "      <th>SUMLEV</th>\n",
       "      <th>REGION</th>\n",
       "      <th>DIVISION</th>\n",
       "      <th>STATE</th>\n",
       "      <th>COUNTY</th>\n",
       "      <th>STNAME</th>\n",
       "      <th>CTY</th>\n",
       "      <th>HEALTHCARE_COST</th>\n",
       "      <th>PERCENT_FOOD_INSECURE</th>\n",
       "      <th>CHILD_MORTALITY_RATE</th>\n",
       "      <th>...</th>\n",
       "      <th>zFOOD_ENVIRONMENT_INDEX</th>\n",
       "      <th>zCIVIC_ASSOCIATIONS</th>\n",
       "      <th>zCRIME_RATE</th>\n",
       "      <th>zDAILY_POLLUTION</th>\n",
       "      <th>zWATER_VIOLATION</th>\n",
       "      <th>zCHILD_MORTALITY_RATE</th>\n",
       "      <th>zCHILDREN_UNINSURED</th>\n",
       "      <th>zDISCONNECTED_YOUTH</th>\n",
       "      <th>zHOUSING_PROBLEMS</th>\n",
       "      <th>zSCORE_TOTAL</th>\n",
       "    </tr>\n",
       "  </thead>\n",
       "  <tbody>\n",
       "    <tr>\n",
       "      <th>2919.000</th>\n",
       "      <td>50.000</td>\n",
       "      <td>3.000</td>\n",
       "      <td>5.000</td>\n",
       "      <td>51.000</td>\n",
       "      <td>107.000</td>\n",
       "      <td>Virginia</td>\n",
       "      <td>Loudoun County, Virginia</td>\n",
       "      <td>8272.000</td>\n",
       "      <td>4.000</td>\n",
       "      <td>30.000</td>\n",
       "      <td>...</td>\n",
       "      <td>2.771</td>\n",
       "      <td>-0.286</td>\n",
       "      <td>1.187</td>\n",
       "      <td>-0.180</td>\n",
       "      <td>-0.628</td>\n",
       "      <td>1.311</td>\n",
       "      <td>0.324</td>\n",
       "      <td>1.403</td>\n",
       "      <td>1.171</td>\n",
       "      <td>1.490</td>\n",
       "    </tr>\n",
       "    <tr>\n",
       "      <th>2564.000</th>\n",
       "      <td>50.000</td>\n",
       "      <td>3.000</td>\n",
       "      <td>6.000</td>\n",
       "      <td>47.000</td>\n",
       "      <td>187.000</td>\n",
       "      <td>Tennessee</td>\n",
       "      <td>Williamson County, Tennessee</td>\n",
       "      <td>8545.000</td>\n",
       "      <td>8.000</td>\n",
       "      <td>26.000</td>\n",
       "      <td>...</td>\n",
       "      <td>1.628</td>\n",
       "      <td>-0.248</td>\n",
       "      <td>0.980</td>\n",
       "      <td>-0.305</td>\n",
       "      <td>1.589</td>\n",
       "      <td>1.568</td>\n",
       "      <td>0.697</td>\n",
       "      <td>0.951</td>\n",
       "      <td>1.171</td>\n",
       "      <td>1.308</td>\n",
       "    </tr>\n",
       "    <tr>\n",
       "      <th>268.000</th>\n",
       "      <td>50.000</td>\n",
       "      <td>4.000</td>\n",
       "      <td>8.000</td>\n",
       "      <td>8.000</td>\n",
       "      <td>35.000</td>\n",
       "      <td>Colorado</td>\n",
       "      <td>Douglas County, Colorado</td>\n",
       "      <td>9521.000</td>\n",
       "      <td>9.000</td>\n",
       "      <td>25.000</td>\n",
       "      <td>...</td>\n",
       "      <td>1.524</td>\n",
       "      <td>-0.412</td>\n",
       "      <td>1.200</td>\n",
       "      <td>1.699</td>\n",
       "      <td>-0.628</td>\n",
       "      <td>1.633</td>\n",
       "      <td>1.069</td>\n",
       "      <td>1.403</td>\n",
       "      <td>1.385</td>\n",
       "      <td>1.278</td>\n",
       "    </tr>\n",
       "    <tr>\n",
       "      <th>740.000</th>\n",
       "      <td>50.000</td>\n",
       "      <td>2.000</td>\n",
       "      <td>3.000</td>\n",
       "      <td>18.000</td>\n",
       "      <td>57.000</td>\n",
       "      <td>Indiana</td>\n",
       "      <td>Hamilton County, Indiana</td>\n",
       "      <td>9303.000</td>\n",
       "      <td>9.000</td>\n",
       "      <td>28.000</td>\n",
       "      <td>...</td>\n",
       "      <td>1.317</td>\n",
       "      <td>-0.171</td>\n",
       "      <td>1.407</td>\n",
       "      <td>-1.307</td>\n",
       "      <td>-0.628</td>\n",
       "      <td>1.440</td>\n",
       "      <td>0.324</td>\n",
       "      <td>1.177</td>\n",
       "      <td>1.815</td>\n",
       "      <td>1.185</td>\n",
       "    </tr>\n",
       "    <tr>\n",
       "      <th>2895.000</th>\n",
       "      <td>50.000</td>\n",
       "      <td>3.000</td>\n",
       "      <td>5.000</td>\n",
       "      <td>51.000</td>\n",
       "      <td>59.000</td>\n",
       "      <td>Virginia</td>\n",
       "      <td>Fairfax County, Virginia</td>\n",
       "      <td>7799.000</td>\n",
       "      <td>6.000</td>\n",
       "      <td>33.000</td>\n",
       "      <td>...</td>\n",
       "      <td>2.356</td>\n",
       "      <td>1.378</td>\n",
       "      <td>1.168</td>\n",
       "      <td>0.572</td>\n",
       "      <td>1.589</td>\n",
       "      <td>1.119</td>\n",
       "      <td>-0.048</td>\n",
       "      <td>1.403</td>\n",
       "      <td>0.527</td>\n",
       "      <td>1.160</td>\n",
       "    </tr>\n",
       "  </tbody>\n",
       "</table>\n",
       "<p>5 rows × 65 columns</p>\n",
       "</div>"
      ],
      "text/plain": [
       "          SUMLEV  REGION  DIVISION  STATE  COUNTY     STNAME  \\\n",
       "2919.000  50.000   3.000     5.000 51.000 107.000   Virginia   \n",
       "2564.000  50.000   3.000     6.000 47.000 187.000  Tennessee   \n",
       "268.000   50.000   4.000     8.000  8.000  35.000   Colorado   \n",
       "740.000   50.000   2.000     3.000 18.000  57.000    Indiana   \n",
       "2895.000  50.000   3.000     5.000 51.000  59.000   Virginia   \n",
       "\n",
       "                                   CTY  HEALTHCARE_COST  \\\n",
       "2919.000      Loudoun County, Virginia         8272.000   \n",
       "2564.000  Williamson County, Tennessee         8545.000   \n",
       "268.000       Douglas County, Colorado         9521.000   \n",
       "740.000       Hamilton County, Indiana         9303.000   \n",
       "2895.000      Fairfax County, Virginia         7799.000   \n",
       "\n",
       "          PERCENT_FOOD_INSECURE  CHILD_MORTALITY_RATE      ...       \\\n",
       "2919.000                  4.000                30.000      ...        \n",
       "2564.000                  8.000                26.000      ...        \n",
       "268.000                   9.000                25.000      ...        \n",
       "740.000                   9.000                28.000      ...        \n",
       "2895.000                  6.000                33.000      ...        \n",
       "\n",
       "          zFOOD_ENVIRONMENT_INDEX  zCIVIC_ASSOCIATIONS  zCRIME_RATE  \\\n",
       "2919.000                    2.771               -0.286        1.187   \n",
       "2564.000                    1.628               -0.248        0.980   \n",
       "268.000                     1.524               -0.412        1.200   \n",
       "740.000                     1.317               -0.171        1.407   \n",
       "2895.000                    2.356                1.378        1.168   \n",
       "\n",
       "          zDAILY_POLLUTION  zWATER_VIOLATION  zCHILD_MORTALITY_RATE  \\\n",
       "2919.000            -0.180            -0.628                  1.311   \n",
       "2564.000            -0.305             1.589                  1.568   \n",
       "268.000              1.699            -0.628                  1.633   \n",
       "740.000             -1.307            -0.628                  1.440   \n",
       "2895.000             0.572             1.589                  1.119   \n",
       "\n",
       "          zCHILDREN_UNINSURED  zDISCONNECTED_YOUTH  zHOUSING_PROBLEMS  \\\n",
       "2919.000                0.324                1.403              1.171   \n",
       "2564.000                0.697                0.951              1.171   \n",
       "268.000                 1.069                1.403              1.385   \n",
       "740.000                 0.324                1.177              1.815   \n",
       "2895.000               -0.048                1.403              0.527   \n",
       "\n",
       "          zSCORE_TOTAL  \n",
       "2919.000         1.490  \n",
       "2564.000         1.308  \n",
       "268.000          1.278  \n",
       "740.000          1.185  \n",
       "2895.000         1.160  \n",
       "\n",
       "[5 rows x 65 columns]"
      ]
     },
     "execution_count": 34,
     "metadata": {},
     "output_type": "execute_result"
    }
   ],
   "source": [
    "df_sorted.head()"
   ]
  },
  {
   "cell_type": "code",
   "execution_count": 35,
   "metadata": {
    "collapsed": true
   },
   "outputs": [],
   "source": [
    "df_sorted.to_csv(\"/Users/alexmahadevan/Code/raise_a_family/county data sorted.csv\")"
   ]
  },
  {
   "cell_type": "markdown",
   "metadata": {},
   "source": [
    "<p>Just glancing at the top few counties, you can see affordability kind of got lost in there, even though we did include healthcare, rent and mortgage costs in the analysis.</p>\n",
    "<p>To do the next part of the analysis, I'm only picking out the top 150 counties.</p> \n",
    "<p>Then I'll hard-code the school grades from [Niche](https://www.niche.com/k12/search/best-school-districts/), and re-run the analysis putting more weight on affordability. That should produce our final list.</p>"
   ]
  },
  {
   "cell_type": "code",
   "execution_count": null,
   "metadata": {
    "collapsed": true
   },
   "outputs": [],
   "source": []
  }
 ],
 "metadata": {
  "kernelspec": {
   "display_name": "Python 2",
   "language": "python",
   "name": "python2"
  },
  "language_info": {
   "codemirror_mode": {
    "name": "ipython",
    "version": 2
   },
   "file_extension": ".py",
   "mimetype": "text/x-python",
   "name": "python",
   "nbconvert_exporter": "python",
   "pygments_lexer": "ipython2",
   "version": "2.7.10"
  }
 },
 "nbformat": 4,
 "nbformat_minor": 2
}
