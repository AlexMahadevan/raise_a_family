{
 "cells": [
  {
   "cell_type": "code",
   "execution_count": 1,
   "metadata": {
    "collapsed": true
   },
   "outputs": [],
   "source": [
    "import pandas as pd"
   ]
  },
  {
   "cell_type": "code",
   "execution_count": 2,
   "metadata": {
    "collapsed": true
   },
   "outputs": [],
   "source": [
    "import numpy as np"
   ]
  },
  {
   "cell_type": "code",
   "execution_count": 3,
   "metadata": {
    "collapsed": true
   },
   "outputs": [],
   "source": [
    "import matplotlib"
   ]
  },
  {
   "cell_type": "code",
   "execution_count": 5,
   "metadata": {},
   "outputs": [],
   "source": [
    "economics = pd.read_csv(\"/Users/alexmahadevan/Desktop/Projects/Data/metro data/economic situation/ACS_15_5YR_DP03_with_ann.csv\")"
   ]
  },
  {
   "cell_type": "code",
   "execution_count": 7,
   "metadata": {},
   "outputs": [
    {
     "data": {
      "text/html": [
       "<div>\n",
       "<style>\n",
       "    .dataframe thead tr:only-child th {\n",
       "        text-align: right;\n",
       "    }\n",
       "\n",
       "    .dataframe thead th {\n",
       "        text-align: left;\n",
       "    }\n",
       "\n",
       "    .dataframe tbody tr th {\n",
       "        vertical-align: top;\n",
       "    }\n",
       "</style>\n",
       "<table border=\"1\" class=\"dataframe\">\n",
       "  <thead>\n",
       "    <tr style=\"text-align: right;\">\n",
       "      <th></th>\n",
       "      <th>GEO.id</th>\n",
       "      <th>GEO.id2</th>\n",
       "      <th>GEO.display-label</th>\n",
       "      <th>HC01_VC03</th>\n",
       "      <th>HC02_VC03</th>\n",
       "      <th>HC03_VC03</th>\n",
       "      <th>HC04_VC03</th>\n",
       "      <th>HC01_VC04</th>\n",
       "      <th>HC02_VC04</th>\n",
       "      <th>HC03_VC04</th>\n",
       "      <th>...</th>\n",
       "      <th>HC03_VC178</th>\n",
       "      <th>HC04_VC178</th>\n",
       "      <th>HC01_VC179</th>\n",
       "      <th>HC02_VC179</th>\n",
       "      <th>HC03_VC179</th>\n",
       "      <th>HC04_VC179</th>\n",
       "      <th>HC01_VC180</th>\n",
       "      <th>HC02_VC180</th>\n",
       "      <th>HC03_VC180</th>\n",
       "      <th>HC04_VC180</th>\n",
       "    </tr>\n",
       "  </thead>\n",
       "  <tbody>\n",
       "    <tr>\n",
       "      <th>count</th>\n",
       "      <td>918</td>\n",
       "      <td>918</td>\n",
       "      <td>918</td>\n",
       "      <td>918</td>\n",
       "      <td>918</td>\n",
       "      <td>918</td>\n",
       "      <td>918</td>\n",
       "      <td>918</td>\n",
       "      <td>918</td>\n",
       "      <td>918</td>\n",
       "      <td>...</td>\n",
       "      <td>918</td>\n",
       "      <td>918</td>\n",
       "      <td>918</td>\n",
       "      <td>918</td>\n",
       "      <td>918</td>\n",
       "      <td>918</td>\n",
       "      <td>918</td>\n",
       "      <td>918</td>\n",
       "      <td>918</td>\n",
       "      <td>918</td>\n",
       "    </tr>\n",
       "    <tr>\n",
       "      <th>unique</th>\n",
       "      <td>918</td>\n",
       "      <td>918</td>\n",
       "      <td>918</td>\n",
       "      <td>917</td>\n",
       "      <td>392</td>\n",
       "      <td>917</td>\n",
       "      <td>2</td>\n",
       "      <td>912</td>\n",
       "      <td>663</td>\n",
       "      <td>262</td>\n",
       "      <td>...</td>\n",
       "      <td>161</td>\n",
       "      <td>59</td>\n",
       "      <td>2</td>\n",
       "      <td>2</td>\n",
       "      <td>221</td>\n",
       "      <td>50</td>\n",
       "      <td>2</td>\n",
       "      <td>2</td>\n",
       "      <td>291</td>\n",
       "      <td>77</td>\n",
       "    </tr>\n",
       "    <tr>\n",
       "      <th>top</th>\n",
       "      <td>310M200US20460</td>\n",
       "      <td>45520</td>\n",
       "      <td>Geography</td>\n",
       "      <td>30978</td>\n",
       "      <td>142</td>\n",
       "      <td>30978</td>\n",
       "      <td>(X)</td>\n",
       "      <td>19758</td>\n",
       "      <td>386</td>\n",
       "      <td>59.5</td>\n",
       "      <td>...</td>\n",
       "      <td>7.4</td>\n",
       "      <td>1.2</td>\n",
       "      <td>(X)</td>\n",
       "      <td>(X)</td>\n",
       "      <td>12.3</td>\n",
       "      <td>1.3</td>\n",
       "      <td>(X)</td>\n",
       "      <td>(X)</td>\n",
       "      <td>28.8</td>\n",
       "      <td>2.4</td>\n",
       "    </tr>\n",
       "    <tr>\n",
       "      <th>freq</th>\n",
       "      <td>1</td>\n",
       "      <td>1</td>\n",
       "      <td>1</td>\n",
       "      <td>2</td>\n",
       "      <td>9</td>\n",
       "      <td>2</td>\n",
       "      <td>917</td>\n",
       "      <td>2</td>\n",
       "      <td>5</td>\n",
       "      <td>12</td>\n",
       "      <td>...</td>\n",
       "      <td>24</td>\n",
       "      <td>50</td>\n",
       "      <td>917</td>\n",
       "      <td>917</td>\n",
       "      <td>14</td>\n",
       "      <td>50</td>\n",
       "      <td>917</td>\n",
       "      <td>917</td>\n",
       "      <td>11</td>\n",
       "      <td>38</td>\n",
       "    </tr>\n",
       "  </tbody>\n",
       "</table>\n",
       "<p>4 rows × 551 columns</p>\n",
       "</div>"
      ],
      "text/plain": [
       "                GEO.id GEO.id2 GEO.display-label HC01_VC03 HC02_VC03  \\\n",
       "count              918     918               918       918       918   \n",
       "unique             918     918               918       917       392   \n",
       "top     310M200US20460   45520         Geography     30978       142   \n",
       "freq                 1       1                 1         2         9   \n",
       "\n",
       "       HC03_VC03 HC04_VC03 HC01_VC04 HC02_VC04 HC03_VC04    ...      \\\n",
       "count        918       918       918       918       918    ...       \n",
       "unique       917         2       912       663       262    ...       \n",
       "top        30978       (X)     19758       386      59.5    ...       \n",
       "freq           2       917         2         5        12    ...       \n",
       "\n",
       "       HC03_VC178 HC04_VC178 HC01_VC179 HC02_VC179 HC03_VC179 HC04_VC179  \\\n",
       "count         918        918        918        918        918        918   \n",
       "unique        161         59          2          2        221         50   \n",
       "top           7.4        1.2        (X)        (X)       12.3        1.3   \n",
       "freq           24         50        917        917         14         50   \n",
       "\n",
       "       HC01_VC180 HC02_VC180 HC03_VC180 HC04_VC180  \n",
       "count         918        918        918        918  \n",
       "unique          2          2        291         77  \n",
       "top           (X)        (X)       28.8        2.4  \n",
       "freq          917        917         11         38  \n",
       "\n",
       "[4 rows x 551 columns]"
      ]
     },
     "execution_count": 7,
     "metadata": {},
     "output_type": "execute_result"
    }
   ],
   "source": [
    "economics.describe()"
   ]
  },
  {
   "cell_type": "code",
   "execution_count": 21,
   "metadata": {},
   "outputs": [
    {
     "ename": "AttributeError",
     "evalue": "'tuple' object has no attribute 'rename'",
     "output_type": "error",
     "traceback": [
      "\u001b[0;31m---------------------------------------------------------------------------\u001b[0m",
      "\u001b[0;31mAttributeError\u001b[0m                            Traceback (most recent call last)",
      "\u001b[0;32m<ipython-input-21-c3b13c6de2e1>\u001b[0m in \u001b[0;36m<module>\u001b[0;34m()\u001b[0m\n\u001b[0;32m----> 1\u001b[0;31m economics = economics.rename(columns={'HC01_VC03': 'pop' , 'HC01_VC04': 'labor_force' , 'HC01_VC05' : 'civ_labor_force' , \n\u001b[0m\u001b[1;32m      2\u001b[0m                     \u001b[0;34m'HC01_VC06'\u001b[0m \u001b[0;34m:\u001b[0m \u001b[0;34m'employed'\u001b[0m \u001b[0;34m,\u001b[0m \u001b[0;34m'HC01_VC07'\u001b[0m \u001b[0;34m:\u001b[0m \u001b[0;34m'unemployed'\u001b[0m \u001b[0;34m,\u001b[0m \u001b[0;34m'HC03_VC31'\u001b[0m \u001b[0;34m:\u001b[0m \u001b[0;34m'percent_walked_to_work'\u001b[0m \u001b[0;34m,\u001b[0m\u001b[0;34m\u001b[0m\u001b[0m\n\u001b[1;32m      3\u001b[0m                     \u001b[0;34m'HC01_VC27'\u001b[0m \u001b[0;34m:\u001b[0m \u001b[0;34m'commuters'\u001b[0m \u001b[0;34m,\u001b[0m \u001b[0;34m'HC01_VC30'\u001b[0m \u001b[0;34m:\u001b[0m \u001b[0;34m'public_transit'\u001b[0m \u001b[0;34m,\u001b[0m \u001b[0;34m'HC01_VC85'\u001b[0m \u001b[0;34m:\u001b[0m \u001b[0;34m'median_household_income'\u001b[0m \u001b[0;34m,\u001b[0m\u001b[0;34m\u001b[0m\u001b[0m\n\u001b[1;32m      4\u001b[0m                     'HC01_VC114' : 'median_family_income' , 'HC03_VC131' : 'percent_with_insurance'})\n",
      "\u001b[0;31mAttributeError\u001b[0m: 'tuple' object has no attribute 'rename'"
     ]
    }
   ],
   "source": [
    "economics = economics.rename(columns={'HC01_VC03': 'pop' , 'HC01_VC04': 'labor_force' , 'HC01_VC05' : 'civ_labor_force' , \n",
    "                    'HC01_VC06' : 'employed' , 'HC01_VC07' : 'unemployed' , 'HC03_VC31' : 'percent_walked_to_work' , \n",
    "                    'HC01_VC27' : 'commuters' , 'HC01_VC30' : 'public_transit' , 'HC01_VC85' : 'median_household_income' , \n",
    "                    'HC01_VC114' : 'median_family_income' , 'HC03_VC131' : 'percent_with_insurance'})\n"
   ]
  },
  {
   "cell_type": "code",
   "execution_count": 16,
   "metadata": {},
   "outputs": [
    {
     "name": "stdout",
     "output_type": "stream",
     "text": [
      "<class 'pandas.core.frame.DataFrame'>\n",
      "RangeIndex: 918 entries, 0 to 917\n",
      "Columns: 551 entries, GEO.id to HC04_VC180\n",
      "dtypes: object(551)\n",
      "memory usage: 3.9+ MB\n"
     ]
    }
   ],
   "source": [
    "economics.info()"
   ]
  },
  {
   "cell_type": "code",
   "execution_count": 20,
   "metadata": {},
   "outputs": [
    {
     "ename": "TypeError",
     "evalue": "tuple indices must be integers, not tuple",
     "output_type": "error",
     "traceback": [
      "\u001b[0;31m---------------------------------------------------------------------------\u001b[0m",
      "\u001b[0;31mTypeError\u001b[0m                                 Traceback (most recent call last)",
      "\u001b[0;32m<ipython-input-20-08d9c793b294>\u001b[0m in \u001b[0;36m<module>\u001b[0;34m()\u001b[0m\n\u001b[0;32m----> 1\u001b[0;31m \u001b[0meconomics\u001b[0m \u001b[0;34m=\u001b[0m \u001b[0meconomics\u001b[0m\u001b[0;34m[\u001b[0m\u001b[0;34m'labor_force'\u001b[0m \u001b[0;34m,\u001b[0m \u001b[0;34m'civ_labor_force'\u001b[0m \u001b[0;34m,\u001b[0m \u001b[0;34m'employed'\u001b[0m \u001b[0;34m,\u001b[0m \u001b[0;34m'unemployed'\u001b[0m \u001b[0;34m,\u001b[0m \u001b[0;34m'percent_walked_to_work'\u001b[0m \u001b[0;34m,\u001b[0m \u001b[0;34m'commuters'\u001b[0m \u001b[0;34m,\u001b[0m \u001b[0;34m'public_transit'\u001b[0m \u001b[0;34m,\u001b[0m \u001b[0;34m'median_household_income'\u001b[0m \u001b[0;34m,\u001b[0m \u001b[0;34m'median_family_income'\u001b[0m \u001b[0;34m,\u001b[0m \u001b[0;34m'percent_with_insurance'\u001b[0m\u001b[0;34m]\u001b[0m\u001b[0;34m\u001b[0m\u001b[0m\n\u001b[0m",
      "\u001b[0;31mTypeError\u001b[0m: tuple indices must be integers, not tuple"
     ]
    }
   ],
   "source": [
    "economics = economics['labor_force' , 'civ_labor_force' , 'employed' , 'unemployed' , 'percent_walked_to_work' , 'commuters' , 'public_transit' , 'median_household_income' , 'median_family_income' , 'percent_with_insurance']"
   ]
  },
  {
   "cell_type": "code",
   "execution_count": 27,
   "metadata": {},
   "outputs": [
    {
     "ename": "AttributeError",
     "evalue": "'module' object has no attribute 'economics'",
     "output_type": "error",
     "traceback": [
      "\u001b[0;31m---------------------------------------------------------------------------\u001b[0m",
      "\u001b[0;31mAttributeError\u001b[0m                            Traceback (most recent call last)",
      "\u001b[0;32m<ipython-input-27-dba0911ca052>\u001b[0m in \u001b[0;36m<module>\u001b[0;34m()\u001b[0m\n\u001b[0;32m----> 1\u001b[0;31m \u001b[0mpd\u001b[0m\u001b[0;34m.\u001b[0m\u001b[0meconomics\u001b[0m\u001b[0;34m.\u001b[0m\u001b[0mto_csv\u001b[0m\u001b[0;34m(\u001b[0m\u001b[0;34m\"/Users/alexmahadevan/Desltop/test.csv\"\u001b[0m\u001b[0;34m)\u001b[0m\u001b[0;34m\u001b[0m\u001b[0m\n\u001b[0m",
      "\u001b[0;31mAttributeError\u001b[0m: 'module' object has no attribute 'economics'"
     ]
    }
   ],
   "source": [
    "pd.economics.to_csv(\"/Users/alexmahadevan/Desltop/test.csv\")"
   ]
  },
  {
   "cell_type": "code",
   "execution_count": null,
   "metadata": {
    "collapsed": true
   },
   "outputs": [],
   "source": []
  }
 ],
 "metadata": {
  "kernelspec": {
   "display_name": "Python 2",
   "language": "python",
   "name": "python2"
  },
  "language_info": {
   "codemirror_mode": {
    "name": "ipython",
    "version": 2
   },
   "file_extension": ".py",
   "mimetype": "text/x-python",
   "name": "python",
   "nbconvert_exporter": "python",
   "pygments_lexer": "ipython2",
   "version": "2.7.10"
  }
 },
 "nbformat": 4,
 "nbformat_minor": 2
}
